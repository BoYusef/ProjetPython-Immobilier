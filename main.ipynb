{
 "cells": [
  {
   "cell_type": "markdown",
   "metadata": {},
   "source": [
    "# Projet Python pour le Data Scientist 2020 : annonces immobilières en région parisienne\n",
    "## Afzal Ali-Zatchi, Youssouf Bance et Claire Alais"
   ]
  },
  {
   "cell_type": "markdown",
   "metadata": {},
   "source": [
    "Introduction"
   ]
  },
  {
   "cell_type": "code",
   "execution_count": 6,
   "metadata": {},
   "outputs": [
    {
     "data": {
      "text/plain": [
       "'C:\\\\Users\\\\ALI ZATCHI Afzal\\\\Desktop\\\\PJET PYthon\\\\Donnees & Préprocessing Code'"
      ]
     },
     "execution_count": 6,
     "metadata": {},
     "output_type": "execute_result"
    }
   ],
   "source": [
    "os.getcwd()"
   ]
  },
  {
   "cell_type": "code",
   "execution_count": 16,
   "metadata": {},
   "outputs": [],
   "source": [
    "import pandas as pd\n",
    "import numpy as np\n",
    "import time\n",
    "import substring\n",
    "import sklearn\n",
    "import seaborn as sns\n",
    "import scipy as stats\n",
    "import os"
   ]
  },
  {
   "cell_type": "markdown",
   "metadata": {},
   "source": [
    "### 1. Collecte des données\n",
    "\n",
    "Nous tirons les informations des annonces immobilères publiées sur le site bienici.fr en nous restreignant à l'Ile-de-France."
   ]
  },
  {
   "cell_type": "markdown",
   "metadata": {},
   "source": [
    "### 2. Préparation de la base de données\n",
    "\n",
    "Pour la suite nous utilisons par défaut la base telle que collectée le 9 décembre 2020, disponible dans le dossier sous le nom 'export_dataframe.csv'."
   ]
  },
  {
   "cell_type": "markdown",
   "metadata": {},
   "source": [
    "#### Fusion des données"
   ]
  },
  {
   "cell_type": "code",
   "execution_count": 90,
   "metadata": {},
   "outputs": [],
   "source": [
    "####\n",
    "os.chdir(\"C:/Users/ALI ZATCHI Afzal/Desktop/PJET PYthon/Donnees & Préprocessing Code/base_for_preprocessing\")"
   ]
  },
  {
   "cell_type": "code",
   "execution_count": 17,
   "metadata": {},
   "outputs": [],
   "source": [
    "ES91_maison_0_604=pd.read_csv(\"ES91_maison_0_604.csv\") # ok\n",
    "ES91_maison_605_=pd.read_csv(\"ES91_maison_605_.csv\") # ok\n",
    "HS92_maison=pd.read_csv(\"HS92_maison.csv\") # ok \n",
    "PA75_maison=pd.read_csv(\"PA75_maison.csv\") # ok\n",
    "YV78_maison_749_1274=pd.read_csv(\"YV78_maison_749_1274.csv\") # ok\n",
    "YV78_maison_de_0_749=pd.read_csv(\"YV78_maison_de_0_749.csv\") # ok\n",
    "MS77_maison_0_1262=pd.read_csv(\"MS77_maison_0_1262.csv\") # ok\n",
    "DB_VM94_maison=pd.read_csv(\"DB_VM94_maison.csv\") # ok"
   ]
  },
  {
   "cell_type": "code",
   "execution_count": 18,
   "metadata": {},
   "outputs": [],
   "source": [
    "donnees_Ile_De_France = pd.concat([ES91_maison_0_604,\n",
    "                                   ES91_maison_605_,\n",
    "                                   HS92_maison,\n",
    "                                   PA75_maison,\n",
    "                                   MS77_maison_0_1262,\n",
    "                                   YV78_maison_de_0_749,\n",
    "                                   DB_VM94_maison,\n",
    "                                   YV78_maison_749_1274],ignore_index=True)"
   ]
  },
  {
   "cell_type": "code",
   "execution_count": 19,
   "metadata": {},
   "outputs": [],
   "source": [
    "#donnees_Ile_De_France.drop(donnees_Ile_De_France.index[[2698,2875,2919,3115,3116,3127]],inplace=True)\n",
    "data=donnees_Ile_De_France"
   ]
  },
  {
   "cell_type": "code",
   "execution_count": 20,
   "metadata": {
    "scrolled": true
   },
   "outputs": [
    {
     "data": {
      "text/html": [
       "<div>\n",
       "<style scoped>\n",
       "    .dataframe tbody tr th:only-of-type {\n",
       "        vertical-align: middle;\n",
       "    }\n",
       "\n",
       "    .dataframe tbody tr th {\n",
       "        vertical-align: top;\n",
       "    }\n",
       "\n",
       "    .dataframe thead th {\n",
       "        text-align: right;\n",
       "    }\n",
       "</style>\n",
       "<table border=\"1\" class=\"dataframe\">\n",
       "  <thead>\n",
       "    <tr style=\"text-align: right;\">\n",
       "      <th></th>\n",
       "      <th>Unnamed: 0</th>\n",
       "      <th>id_hourse</th>\n",
       "      <th>Addresse</th>\n",
       "      <th>Titre</th>\n",
       "      <th>Prix</th>\n",
       "      <th>Surface</th>\n",
       "      <th>Nb_piece</th>\n",
       "      <th>Nb_chambre</th>\n",
       "      <th>Parking</th>\n",
       "      <th>Jardin</th>\n",
       "      <th>Ascenseur</th>\n",
       "      <th>Terrasse</th>\n",
       "      <th>Garage</th>\n",
       "      <th>Prix_sur</th>\n",
       "      <th>Reference</th>\n",
       "      <th>Date_publication</th>\n",
       "      <th>Date_modification</th>\n",
       "      <th>Titre_description</th>\n",
       "      <th>Description</th>\n",
       "    </tr>\n",
       "  </thead>\n",
       "  <tbody>\n",
       "    <tr>\n",
       "      <th>0</th>\n",
       "      <td>0</td>\n",
       "      <td>ES91_0</td>\n",
       "      <td>Boussy-Saint-Antoine 91800</td>\n",
       "      <td>Achat maison 4 pièces 128 m², Boussy-Saint-Ant...</td>\n",
       "      <td>414 500 €</td>\n",
       "      <td>128 m²</td>\n",
       "      <td>4 pièces</td>\n",
       "      <td>3 chambres</td>\n",
       "      <td>2 places de parking</td>\n",
       "      <td>Jardin</td>\n",
       "      <td>NaN</td>\n",
       "      <td>NaN</td>\n",
       "      <td>NaN</td>\n",
       "      <td>3 238 €/m²</td>\n",
       "      <td>Réf. de l’annonce : 098906E1QEZB</td>\n",
       "      <td>Publiée le 12 oct. 2020</td>\n",
       "      <td>Modifiée le 6 nov. 2020</td>\n",
       "      <td>Descriptif de cette maison à vendre de 4 pièce...</td>\n",
       "      <td>Maison Boussy Saint Antoine 4 pièce(s) 128 m2,...</td>\n",
       "    </tr>\n",
       "    <tr>\n",
       "      <th>1</th>\n",
       "      <td>1</td>\n",
       "      <td>ES91_1</td>\n",
       "      <td>Chilly-Mazarin 91380 (Gravigny)</td>\n",
       "      <td>Achat maison 4 pièces 82 m², Chilly-Mazarin - ...</td>\n",
       "      <td>357 000 €</td>\n",
       "      <td>81,78 m²</td>\n",
       "      <td>4 pièces</td>\n",
       "      <td>3 chambres</td>\n",
       "      <td>3 places de parking</td>\n",
       "      <td>Jardin</td>\n",
       "      <td>NaN</td>\n",
       "      <td>1 terrasse</td>\n",
       "      <td>NaN</td>\n",
       "      <td>4 365 €/m²</td>\n",
       "      <td>Réf. de l’annonce : 3310</td>\n",
       "      <td>Publiée il y a plus de 2 mois</td>\n",
       "      <td>Modifiée le 12 oct. 2020</td>\n",
       "      <td>Descriptif de cette maison à vendre de 4 pièce...</td>\n",
       "      <td>Vente d'une maison F4 à CHILLY MAZARIN. MAISON...</td>\n",
       "    </tr>\n",
       "    <tr>\n",
       "      <th>2</th>\n",
       "      <td>2</td>\n",
       "      <td>ES91_2</td>\n",
       "      <td>Sainte-Geneviève-des-Bois 91700 (Georges Pitard)</td>\n",
       "      <td>Achat maison 6 pièces 163 m², Sainte-Geneviève...</td>\n",
       "      <td>450 000 €</td>\n",
       "      <td>163 m²</td>\n",
       "      <td>6 pièces</td>\n",
       "      <td>4 chambres</td>\n",
       "      <td>3 places de parking</td>\n",
       "      <td>Jardin</td>\n",
       "      <td>NaN</td>\n",
       "      <td>NaN</td>\n",
       "      <td>NaN</td>\n",
       "      <td>2 761 €/m²</td>\n",
       "      <td>Réf. de l’annonce : 09891902QHRQ</td>\n",
       "      <td>Publiée il y a plus de 2 mois</td>\n",
       "      <td>Modifiée le 27 nov. 2020</td>\n",
       "      <td>Descriptif de cette maison à vendre de 6 pièce...</td>\n",
       "      <td>Maison STE GENEVIEVE DES BOIS 6 pièce(s) 160 m...</td>\n",
       "    </tr>\n",
       "    <tr>\n",
       "      <th>3</th>\n",
       "      <td>3</td>\n",
       "      <td>ES91_3</td>\n",
       "      <td>Longjumeau 91160 (Gubanski - Sud)</td>\n",
       "      <td>Achat maison 7 pièces 154 m², Longjumeau - 467...</td>\n",
       "      <td>467 500 €</td>\n",
       "      <td>154 m²</td>\n",
       "      <td>7 pièces</td>\n",
       "      <td>4 chambres</td>\n",
       "      <td>8 places de parking</td>\n",
       "      <td>Jardin</td>\n",
       "      <td>NaN</td>\n",
       "      <td>NaN</td>\n",
       "      <td>NaN</td>\n",
       "      <td>3 036 €/m²</td>\n",
       "      <td>Réf. de l’annonce : 098023E1LUDE</td>\n",
       "      <td>Publiée il y a plus de 2 mois</td>\n",
       "      <td>Modifiée le 6 nov. 2020</td>\n",
       "      <td>Descriptif de cette maison à vendre de 7 pièce...</td>\n",
       "      <td>Maison Longjumeau 7 pièce(s) 154 m2 / 2 double...</td>\n",
       "    </tr>\n",
       "    <tr>\n",
       "      <th>4</th>\n",
       "      <td>4</td>\n",
       "      <td>ES91_4</td>\n",
       "      <td>Morsang-sur-Orge 91390 (Langevin)</td>\n",
       "      <td>Achat maison 7 pièces 155 m², Morsang-sur-Orge...</td>\n",
       "      <td>465 000 €</td>\n",
       "      <td>155 m²</td>\n",
       "      <td>7 pièces</td>\n",
       "      <td>5 chambres</td>\n",
       "      <td>6 places de parking</td>\n",
       "      <td>Jardin</td>\n",
       "      <td>NaN</td>\n",
       "      <td>NaN</td>\n",
       "      <td>NaN</td>\n",
       "      <td>3 000 €/m²</td>\n",
       "      <td>Réf. de l’annonce : 098061E1LN0N</td>\n",
       "      <td>Publiée il y a plus de 2 mois</td>\n",
       "      <td>Modifiée le 1 déc. 2020</td>\n",
       "      <td>Descriptif de cette maison à vendre de 7 pièce...</td>\n",
       "      <td>Maison Morsang Sur Orge. EXCLUSIVITÉ - MORSANG...</td>\n",
       "    </tr>\n",
       "    <tr>\n",
       "      <th>...</th>\n",
       "      <td>...</td>\n",
       "      <td>...</td>\n",
       "      <td>...</td>\n",
       "      <td>...</td>\n",
       "      <td>...</td>\n",
       "      <td>...</td>\n",
       "      <td>...</td>\n",
       "      <td>...</td>\n",
       "      <td>...</td>\n",
       "      <td>...</td>\n",
       "      <td>...</td>\n",
       "      <td>...</td>\n",
       "      <td>...</td>\n",
       "      <td>...</td>\n",
       "      <td>...</td>\n",
       "      <td>...</td>\n",
       "      <td>...</td>\n",
       "      <td>...</td>\n",
       "      <td>...</td>\n",
       "    </tr>\n",
       "    <tr>\n",
       "      <th>6173</th>\n",
       "      <td>515</td>\n",
       "      <td>YV78_1269</td>\n",
       "      <td>Bouafle 78410</td>\n",
       "      <td>Achat maison 7 pièces 245 m², Bouafle - 625 000 €</td>\n",
       "      <td>625 000 €</td>\n",
       "      <td>245 m²</td>\n",
       "      <td>7 pièces</td>\n",
       "      <td>4 chambres</td>\n",
       "      <td>2 places de parking</td>\n",
       "      <td>Jardin</td>\n",
       "      <td>NaN</td>\n",
       "      <td>1 terrasse</td>\n",
       "      <td>NaN</td>\n",
       "      <td>2 551 €/m²</td>\n",
       "      <td>NaN</td>\n",
       "      <td>Publiée il y a plus de 2 mois</td>\n",
       "      <td>Réf. de l’annonce : 577</td>\n",
       "      <td>Descriptif de cette maison à vendre de 7 pièce...</td>\n",
       "      <td>Maison 144m² + dépendance 101m². Dans la ville...</td>\n",
       "    </tr>\n",
       "    <tr>\n",
       "      <th>6174</th>\n",
       "      <td>516</td>\n",
       "      <td>YV78_1270</td>\n",
       "      <td>Porcheville 78440</td>\n",
       "      <td>Achat maison 6 pièces 145 m², Porcheville - 28...</td>\n",
       "      <td>280 000 €</td>\n",
       "      <td>145 m²</td>\n",
       "      <td>6 pièces</td>\n",
       "      <td>4 chambres</td>\n",
       "      <td>2 places de parking</td>\n",
       "      <td>Jardin</td>\n",
       "      <td>NaN</td>\n",
       "      <td>NaN</td>\n",
       "      <td>NaN</td>\n",
       "      <td>1 862 €/m²</td>\n",
       "      <td>Réf. de l’annonce : 007055E1NFTG</td>\n",
       "      <td>Publiée il y a plus de 2 mois</td>\n",
       "      <td>Modifiée le 14 nov. 2020</td>\n",
       "      <td>Descriptif de cette maison à vendre de 6 pièce...</td>\n",
       "      <td>Maison familiale Porcheville 7 pièce(s) 145 m2...</td>\n",
       "    </tr>\n",
       "    <tr>\n",
       "      <th>6175</th>\n",
       "      <td>517</td>\n",
       "      <td>YV78_1271</td>\n",
       "      <td>Sartrouville 78500 (Le Val Notre-Dame)</td>\n",
       "      <td>Achat maison 5 pièces 160 m², Sartrouville - 5...</td>\n",
       "      <td>566 000 €</td>\n",
       "      <td>160 m²</td>\n",
       "      <td>5 pièces</td>\n",
       "      <td>3 chambres</td>\n",
       "      <td>2 places de parking</td>\n",
       "      <td>Jardin</td>\n",
       "      <td>NaN</td>\n",
       "      <td>NaN</td>\n",
       "      <td>Garage</td>\n",
       "      <td>3 538 €/m²</td>\n",
       "      <td>Réf. de l’annonce : 749571019-4</td>\n",
       "      <td>Publiée il y a plus de 2 mois</td>\n",
       "      <td>Modifiée le 2 déc. 2020</td>\n",
       "      <td>Descriptif de cette maison à vendre de 5 pièce...</td>\n",
       "      <td>Pavillon Beaux Volumes. Sartrouville, dans un ...</td>\n",
       "    </tr>\n",
       "    <tr>\n",
       "      <th>6176</th>\n",
       "      <td>518</td>\n",
       "      <td>YV78_1272</td>\n",
       "      <td>Verneuil-sur-Seine 78480 (Les Clairières - Les...</td>\n",
       "      <td>Achat maison 7 pièces 145 m², Verneuil-sur-Sei...</td>\n",
       "      <td>484 000 €</td>\n",
       "      <td>145 m²</td>\n",
       "      <td>7 pièces</td>\n",
       "      <td>5 chambres</td>\n",
       "      <td>2 parkings extérieurs</td>\n",
       "      <td>Jardin de 801 m²</td>\n",
       "      <td>NaN</td>\n",
       "      <td>NaN</td>\n",
       "      <td>2 garages</td>\n",
       "      <td>3 172 €/m²</td>\n",
       "      <td>Réf. de l’annonce : 31490007</td>\n",
       "      <td>Publiée il y a plus de 2 mois</td>\n",
       "      <td>Modifiée le 21 oct. 2020</td>\n",
       "      <td>Descriptif de cette maison à vendre de 7 pièce...</td>\n",
       "      <td>Une maison des années 1970 située dans un cadr...</td>\n",
       "    </tr>\n",
       "    <tr>\n",
       "      <th>6177</th>\n",
       "      <td>519</td>\n",
       "      <td>YV78_1273</td>\n",
       "      <td>Bougival 78380</td>\n",
       "      <td>Achat maison 8 pièces 200 m², Bougival - 905 0...</td>\n",
       "      <td>905 000 €</td>\n",
       "      <td>200 m²</td>\n",
       "      <td>8 pièces</td>\n",
       "      <td>5 chambres</td>\n",
       "      <td>2 places de parking</td>\n",
       "      <td>Jardin</td>\n",
       "      <td>NaN</td>\n",
       "      <td>NaN</td>\n",
       "      <td>NaN</td>\n",
       "      <td>4 350 €/m²</td>\n",
       "      <td>Réf. de l’annonce : 17203</td>\n",
       "      <td>Publiée il y a plus de 2 mois</td>\n",
       "      <td>Modifiée le 7 nov. 2020</td>\n",
       "      <td>Descriptif de cette maison à vendre de 8 pièce...</td>\n",
       "      <td>MAISON BOURGEOISE. ILE des IMPRESSIONNISTES. A...</td>\n",
       "    </tr>\n",
       "  </tbody>\n",
       "</table>\n",
       "<p>6178 rows × 19 columns</p>\n",
       "</div>"
      ],
      "text/plain": [
       "      Unnamed: 0  id_hourse  \\\n",
       "0              0     ES91_0   \n",
       "1              1     ES91_1   \n",
       "2              2     ES91_2   \n",
       "3              3     ES91_3   \n",
       "4              4     ES91_4   \n",
       "...          ...        ...   \n",
       "6173         515  YV78_1269   \n",
       "6174         516  YV78_1270   \n",
       "6175         517  YV78_1271   \n",
       "6176         518  YV78_1272   \n",
       "6177         519  YV78_1273   \n",
       "\n",
       "                                               Addresse  \\\n",
       "0                            Boussy-Saint-Antoine 91800   \n",
       "1                       Chilly-Mazarin 91380 (Gravigny)   \n",
       "2      Sainte-Geneviève-des-Bois 91700 (Georges Pitard)   \n",
       "3                     Longjumeau 91160 (Gubanski - Sud)   \n",
       "4                     Morsang-sur-Orge 91390 (Langevin)   \n",
       "...                                                 ...   \n",
       "6173                                      Bouafle 78410   \n",
       "6174                                  Porcheville 78440   \n",
       "6175             Sartrouville 78500 (Le Val Notre-Dame)   \n",
       "6176  Verneuil-sur-Seine 78480 (Les Clairières - Les...   \n",
       "6177                                     Bougival 78380   \n",
       "\n",
       "                                                  Titre       Prix   Surface  \\\n",
       "0     Achat maison 4 pièces 128 m², Boussy-Saint-Ant...  414 500 €    128 m²   \n",
       "1     Achat maison 4 pièces 82 m², Chilly-Mazarin - ...  357 000 €  81,78 m²   \n",
       "2     Achat maison 6 pièces 163 m², Sainte-Geneviève...  450 000 €    163 m²   \n",
       "3     Achat maison 7 pièces 154 m², Longjumeau - 467...  467 500 €    154 m²   \n",
       "4     Achat maison 7 pièces 155 m², Morsang-sur-Orge...  465 000 €    155 m²   \n",
       "...                                                 ...        ...       ...   \n",
       "6173  Achat maison 7 pièces 245 m², Bouafle - 625 000 €  625 000 €    245 m²   \n",
       "6174  Achat maison 6 pièces 145 m², Porcheville - 28...  280 000 €    145 m²   \n",
       "6175  Achat maison 5 pièces 160 m², Sartrouville - 5...  566 000 €    160 m²   \n",
       "6176  Achat maison 7 pièces 145 m², Verneuil-sur-Sei...  484 000 €    145 m²   \n",
       "6177  Achat maison 8 pièces 200 m², Bougival - 905 0...  905 000 €    200 m²   \n",
       "\n",
       "      Nb_piece  Nb_chambre                Parking            Jardin  \\\n",
       "0     4 pièces  3 chambres    2 places de parking            Jardin   \n",
       "1     4 pièces  3 chambres    3 places de parking            Jardin   \n",
       "2     6 pièces  4 chambres    3 places de parking            Jardin   \n",
       "3     7 pièces  4 chambres    8 places de parking            Jardin   \n",
       "4     7 pièces  5 chambres    6 places de parking            Jardin   \n",
       "...        ...         ...                    ...               ...   \n",
       "6173  7 pièces  4 chambres    2 places de parking            Jardin   \n",
       "6174  6 pièces  4 chambres    2 places de parking            Jardin   \n",
       "6175  5 pièces  3 chambres    2 places de parking            Jardin   \n",
       "6176  7 pièces  5 chambres  2 parkings extérieurs  Jardin de 801 m²   \n",
       "6177  8 pièces  5 chambres    2 places de parking            Jardin   \n",
       "\n",
       "      Ascenseur    Terrasse     Garage    Prix_sur  \\\n",
       "0           NaN         NaN        NaN  3 238 €/m²   \n",
       "1           NaN  1 terrasse        NaN  4 365 €/m²   \n",
       "2           NaN         NaN        NaN  2 761 €/m²   \n",
       "3           NaN         NaN        NaN  3 036 €/m²   \n",
       "4           NaN         NaN        NaN  3 000 €/m²   \n",
       "...         ...         ...        ...         ...   \n",
       "6173        NaN  1 terrasse        NaN  2 551 €/m²   \n",
       "6174        NaN         NaN        NaN  1 862 €/m²   \n",
       "6175        NaN         NaN     Garage  3 538 €/m²   \n",
       "6176        NaN         NaN  2 garages  3 172 €/m²   \n",
       "6177        NaN         NaN        NaN  4 350 €/m²   \n",
       "\n",
       "                             Reference               Date_publication  \\\n",
       "0     Réf. de l’annonce : 098906E1QEZB        Publiée le 12 oct. 2020   \n",
       "1             Réf. de l’annonce : 3310  Publiée il y a plus de 2 mois   \n",
       "2     Réf. de l’annonce : 09891902QHRQ  Publiée il y a plus de 2 mois   \n",
       "3     Réf. de l’annonce : 098023E1LUDE  Publiée il y a plus de 2 mois   \n",
       "4     Réf. de l’annonce : 098061E1LN0N  Publiée il y a plus de 2 mois   \n",
       "...                                ...                            ...   \n",
       "6173                               NaN  Publiée il y a plus de 2 mois   \n",
       "6174  Réf. de l’annonce : 007055E1NFTG  Publiée il y a plus de 2 mois   \n",
       "6175   Réf. de l’annonce : 749571019-4  Publiée il y a plus de 2 mois   \n",
       "6176      Réf. de l’annonce : 31490007  Publiée il y a plus de 2 mois   \n",
       "6177         Réf. de l’annonce : 17203  Publiée il y a plus de 2 mois   \n",
       "\n",
       "             Date_modification  \\\n",
       "0      Modifiée le 6 nov. 2020   \n",
       "1     Modifiée le 12 oct. 2020   \n",
       "2     Modifiée le 27 nov. 2020   \n",
       "3      Modifiée le 6 nov. 2020   \n",
       "4      Modifiée le 1 déc. 2020   \n",
       "...                        ...   \n",
       "6173   Réf. de l’annonce : 577   \n",
       "6174  Modifiée le 14 nov. 2020   \n",
       "6175   Modifiée le 2 déc. 2020   \n",
       "6176  Modifiée le 21 oct. 2020   \n",
       "6177   Modifiée le 7 nov. 2020   \n",
       "\n",
       "                                      Titre_description  \\\n",
       "0     Descriptif de cette maison à vendre de 4 pièce...   \n",
       "1     Descriptif de cette maison à vendre de 4 pièce...   \n",
       "2     Descriptif de cette maison à vendre de 6 pièce...   \n",
       "3     Descriptif de cette maison à vendre de 7 pièce...   \n",
       "4     Descriptif de cette maison à vendre de 7 pièce...   \n",
       "...                                                 ...   \n",
       "6173  Descriptif de cette maison à vendre de 7 pièce...   \n",
       "6174  Descriptif de cette maison à vendre de 6 pièce...   \n",
       "6175  Descriptif de cette maison à vendre de 5 pièce...   \n",
       "6176  Descriptif de cette maison à vendre de 7 pièce...   \n",
       "6177  Descriptif de cette maison à vendre de 8 pièce...   \n",
       "\n",
       "                                            Description  \n",
       "0     Maison Boussy Saint Antoine 4 pièce(s) 128 m2,...  \n",
       "1     Vente d'une maison F4 à CHILLY MAZARIN. MAISON...  \n",
       "2     Maison STE GENEVIEVE DES BOIS 6 pièce(s) 160 m...  \n",
       "3     Maison Longjumeau 7 pièce(s) 154 m2 / 2 double...  \n",
       "4     Maison Morsang Sur Orge. EXCLUSIVITÉ - MORSANG...  \n",
       "...                                                 ...  \n",
       "6173  Maison 144m² + dépendance 101m². Dans la ville...  \n",
       "6174  Maison familiale Porcheville 7 pièce(s) 145 m2...  \n",
       "6175  Pavillon Beaux Volumes. Sartrouville, dans un ...  \n",
       "6176  Une maison des années 1970 située dans un cadr...  \n",
       "6177  MAISON BOURGEOISE. ILE des IMPRESSIONNISTES. A...  \n",
       "\n",
       "[6178 rows x 19 columns]"
      ]
     },
     "execution_count": 20,
     "metadata": {},
     "output_type": "execute_result"
    }
   ],
   "source": [
    "data"
   ]
  },
  {
   "cell_type": "markdown",
   "metadata": {},
   "source": [
    "#### Fonction de Nettoyage"
   ]
  },
  {
   "cell_type": "code",
   "execution_count": 21,
   "metadata": {},
   "outputs": [],
   "source": [
    "def Clean(data):\n",
    "    # Copie de la data\n",
    "    donnee=data\n",
    "    \n",
    "    donnee.drop(columns='Unnamed: 0',inplace=True)\n",
    "    # Prix\n",
    "    donnee[\"PrixR\"]=donnee.Prix.str.replace(\"€\",\"\").str.replace(\" \",\"\")\n",
    "    donnee[\"PrixR\"]=donnee['PrixR'].astype(float)\n",
    "\n",
    "    ## Surface\n",
    "    donnee['SurfaceR']=donnee.Surface.str.replace(\"m²\",\"\").str.replace(\",\",\".\")\n",
    "    donnee['SurfaceR']=donnee.SurfaceR.astype(float)\n",
    "\n",
    "    ## Pieces\n",
    "    donnee['Nb_PiecesR']=donnee.Nb_piece.str.replace(\"pièce\",\"\").str.replace(\"s\",\"\").str.replace(\" \",\"\")\n",
    "    donnee[\"Nb_PiecesR\"]=donnee.Nb_PiecesR.astype(float)\n",
    "\n",
    "    ### Chambres\n",
    "    donnee['Nb_ChambresR']=donnee.Nb_chambre.str.replace(\"chambre\",\"\").str.replace(\"s\",\"\").str.replace(\" \",\"\")\n",
    "    donnee[\"Nb_ChambresR\"]=donnee.Nb_ChambresR.astype(float)\n",
    "\n",
    "    ### Adresse  et  Zone: Emplacement( Ville, Commune, Je ne sais pas trop)\n",
    "\n",
    "    ## Exemple Asnières-sur-Seine 92600 (Coubertin)\n",
    "    #   DepartR= 92600    ZoneR = \"Asnières-sur-Seine\" \n",
    "    #   EmplacementR = \"(Coubertin)\"\n",
    "\n",
    "    # Departement\n",
    "    dep=[''.join([i for i in j if i.isdigit()]) for j in donnee.Addresse]\n",
    "    dep=[int(i) for i in dep]\n",
    "    donnee[\"DepartR\"]=dep\n",
    "    \n",
    "    depl=[''.join([i for i in j if i.isdigit()]) for j in data.Addresse]\n",
    "    depl=[i[:2] for i in depl]\n",
    "    donnee[\"Dep\"]=depl\n",
    "\n",
    "    # ZoneR\n",
    "    secteur=[''.join([i for i in j if not i.isdigit()]) for j in donnee.Addresse]\n",
    "    donnee[\"ZoneR\"]=secteur\n",
    "\n",
    "\n",
    "    ##  Emplacement exact( Précisé entre Parenthèses)\n",
    "    donnee[\"EmplacementR\"]=[substring.substringByChar(i, startChar=\"(\", endChar=\")\").replace('(','').replace(')','') if i.find('(')>=0 else i for i in donnee.ZoneR]\n",
    "\n",
    "    ### Parking\n",
    "    park=donnee.Parking.fillna('')\n",
    "    park.replace('',np.nan)\n",
    "    park=[''.join([i for i in j if i.isdigit()]) for j in park]\n",
    "    park=[np.nan if i=='' else float(i) for i in park]\n",
    "    donnee[\"ParkingR\"]=park\n",
    "\n",
    "    ## Les Nan pour les parking représentent les maisons sans parking( je pense)\n",
    "    donnee['ParkingR']=donnee['ParkingR'].fillna(0)\n",
    "\n",
    "    ## Jardin \n",
    "    donnee['JardinR']=~donnee.Jardin.isna()\n",
    "\n",
    "    ### Ascenseur : Inutile visuellement Ne contient que les Na/ En meme tps\n",
    "    # Les maisons n'ont pas d'ascenseur\n",
    "    return donnee"
   ]
  },
  {
   "cell_type": "code",
   "execution_count": 22,
   "metadata": {},
   "outputs": [],
   "source": [
    "data=Clean(data)"
   ]
  },
  {
   "cell_type": "code",
   "execution_count": 23,
   "metadata": {
    "scrolled": true
   },
   "outputs": [
    {
     "data": {
      "text/html": [
       "<div>\n",
       "<style scoped>\n",
       "    .dataframe tbody tr th:only-of-type {\n",
       "        vertical-align: middle;\n",
       "    }\n",
       "\n",
       "    .dataframe tbody tr th {\n",
       "        vertical-align: top;\n",
       "    }\n",
       "\n",
       "    .dataframe thead th {\n",
       "        text-align: right;\n",
       "    }\n",
       "</style>\n",
       "<table border=\"1\" class=\"dataframe\">\n",
       "  <thead>\n",
       "    <tr style=\"text-align: right;\">\n",
       "      <th></th>\n",
       "      <th>id_hourse</th>\n",
       "      <th>Addresse</th>\n",
       "      <th>Titre</th>\n",
       "      <th>Prix</th>\n",
       "      <th>Surface</th>\n",
       "      <th>Nb_piece</th>\n",
       "      <th>Nb_chambre</th>\n",
       "      <th>Parking</th>\n",
       "      <th>Jardin</th>\n",
       "      <th>Ascenseur</th>\n",
       "      <th>...</th>\n",
       "      <th>PrixR</th>\n",
       "      <th>SurfaceR</th>\n",
       "      <th>Nb_PiecesR</th>\n",
       "      <th>Nb_ChambresR</th>\n",
       "      <th>DepartR</th>\n",
       "      <th>Dep</th>\n",
       "      <th>ZoneR</th>\n",
       "      <th>EmplacementR</th>\n",
       "      <th>ParkingR</th>\n",
       "      <th>JardinR</th>\n",
       "    </tr>\n",
       "  </thead>\n",
       "  <tbody>\n",
       "    <tr>\n",
       "      <th>0</th>\n",
       "      <td>ES91_0</td>\n",
       "      <td>Boussy-Saint-Antoine 91800</td>\n",
       "      <td>Achat maison 4 pièces 128 m², Boussy-Saint-Ant...</td>\n",
       "      <td>414 500 €</td>\n",
       "      <td>128 m²</td>\n",
       "      <td>4 pièces</td>\n",
       "      <td>3 chambres</td>\n",
       "      <td>2 places de parking</td>\n",
       "      <td>Jardin</td>\n",
       "      <td>NaN</td>\n",
       "      <td>...</td>\n",
       "      <td>414500.0</td>\n",
       "      <td>128.00</td>\n",
       "      <td>4.0</td>\n",
       "      <td>3.0</td>\n",
       "      <td>91800</td>\n",
       "      <td>91</td>\n",
       "      <td>Boussy-Saint-Antoine</td>\n",
       "      <td>Boussy-Saint-Antoine</td>\n",
       "      <td>2.0</td>\n",
       "      <td>True</td>\n",
       "    </tr>\n",
       "    <tr>\n",
       "      <th>1</th>\n",
       "      <td>ES91_1</td>\n",
       "      <td>Chilly-Mazarin 91380 (Gravigny)</td>\n",
       "      <td>Achat maison 4 pièces 82 m², Chilly-Mazarin - ...</td>\n",
       "      <td>357 000 €</td>\n",
       "      <td>81,78 m²</td>\n",
       "      <td>4 pièces</td>\n",
       "      <td>3 chambres</td>\n",
       "      <td>3 places de parking</td>\n",
       "      <td>Jardin</td>\n",
       "      <td>NaN</td>\n",
       "      <td>...</td>\n",
       "      <td>357000.0</td>\n",
       "      <td>81.78</td>\n",
       "      <td>4.0</td>\n",
       "      <td>3.0</td>\n",
       "      <td>91380</td>\n",
       "      <td>91</td>\n",
       "      <td>Chilly-Mazarin  (Gravigny)</td>\n",
       "      <td>Gravigny</td>\n",
       "      <td>3.0</td>\n",
       "      <td>True</td>\n",
       "    </tr>\n",
       "    <tr>\n",
       "      <th>2</th>\n",
       "      <td>ES91_2</td>\n",
       "      <td>Sainte-Geneviève-des-Bois 91700 (Georges Pitard)</td>\n",
       "      <td>Achat maison 6 pièces 163 m², Sainte-Geneviève...</td>\n",
       "      <td>450 000 €</td>\n",
       "      <td>163 m²</td>\n",
       "      <td>6 pièces</td>\n",
       "      <td>4 chambres</td>\n",
       "      <td>3 places de parking</td>\n",
       "      <td>Jardin</td>\n",
       "      <td>NaN</td>\n",
       "      <td>...</td>\n",
       "      <td>450000.0</td>\n",
       "      <td>163.00</td>\n",
       "      <td>6.0</td>\n",
       "      <td>4.0</td>\n",
       "      <td>91700</td>\n",
       "      <td>91</td>\n",
       "      <td>Sainte-Geneviève-des-Bois  (Georges Pitard)</td>\n",
       "      <td>Georges Pitard</td>\n",
       "      <td>3.0</td>\n",
       "      <td>True</td>\n",
       "    </tr>\n",
       "    <tr>\n",
       "      <th>3</th>\n",
       "      <td>ES91_3</td>\n",
       "      <td>Longjumeau 91160 (Gubanski - Sud)</td>\n",
       "      <td>Achat maison 7 pièces 154 m², Longjumeau - 467...</td>\n",
       "      <td>467 500 €</td>\n",
       "      <td>154 m²</td>\n",
       "      <td>7 pièces</td>\n",
       "      <td>4 chambres</td>\n",
       "      <td>8 places de parking</td>\n",
       "      <td>Jardin</td>\n",
       "      <td>NaN</td>\n",
       "      <td>...</td>\n",
       "      <td>467500.0</td>\n",
       "      <td>154.00</td>\n",
       "      <td>7.0</td>\n",
       "      <td>4.0</td>\n",
       "      <td>91160</td>\n",
       "      <td>91</td>\n",
       "      <td>Longjumeau  (Gubanski - Sud)</td>\n",
       "      <td>Gubanski - Sud</td>\n",
       "      <td>8.0</td>\n",
       "      <td>True</td>\n",
       "    </tr>\n",
       "    <tr>\n",
       "      <th>4</th>\n",
       "      <td>ES91_4</td>\n",
       "      <td>Morsang-sur-Orge 91390 (Langevin)</td>\n",
       "      <td>Achat maison 7 pièces 155 m², Morsang-sur-Orge...</td>\n",
       "      <td>465 000 €</td>\n",
       "      <td>155 m²</td>\n",
       "      <td>7 pièces</td>\n",
       "      <td>5 chambres</td>\n",
       "      <td>6 places de parking</td>\n",
       "      <td>Jardin</td>\n",
       "      <td>NaN</td>\n",
       "      <td>...</td>\n",
       "      <td>465000.0</td>\n",
       "      <td>155.00</td>\n",
       "      <td>7.0</td>\n",
       "      <td>5.0</td>\n",
       "      <td>91390</td>\n",
       "      <td>91</td>\n",
       "      <td>Morsang-sur-Orge  (Langevin)</td>\n",
       "      <td>Langevin</td>\n",
       "      <td>6.0</td>\n",
       "      <td>True</td>\n",
       "    </tr>\n",
       "    <tr>\n",
       "      <th>...</th>\n",
       "      <td>...</td>\n",
       "      <td>...</td>\n",
       "      <td>...</td>\n",
       "      <td>...</td>\n",
       "      <td>...</td>\n",
       "      <td>...</td>\n",
       "      <td>...</td>\n",
       "      <td>...</td>\n",
       "      <td>...</td>\n",
       "      <td>...</td>\n",
       "      <td>...</td>\n",
       "      <td>...</td>\n",
       "      <td>...</td>\n",
       "      <td>...</td>\n",
       "      <td>...</td>\n",
       "      <td>...</td>\n",
       "      <td>...</td>\n",
       "      <td>...</td>\n",
       "      <td>...</td>\n",
       "      <td>...</td>\n",
       "      <td>...</td>\n",
       "    </tr>\n",
       "    <tr>\n",
       "      <th>6173</th>\n",
       "      <td>YV78_1269</td>\n",
       "      <td>Bouafle 78410</td>\n",
       "      <td>Achat maison 7 pièces 245 m², Bouafle - 625 000 €</td>\n",
       "      <td>625 000 €</td>\n",
       "      <td>245 m²</td>\n",
       "      <td>7 pièces</td>\n",
       "      <td>4 chambres</td>\n",
       "      <td>2 places de parking</td>\n",
       "      <td>Jardin</td>\n",
       "      <td>NaN</td>\n",
       "      <td>...</td>\n",
       "      <td>625000.0</td>\n",
       "      <td>245.00</td>\n",
       "      <td>7.0</td>\n",
       "      <td>4.0</td>\n",
       "      <td>78410</td>\n",
       "      <td>78</td>\n",
       "      <td>Bouafle</td>\n",
       "      <td>Bouafle</td>\n",
       "      <td>2.0</td>\n",
       "      <td>True</td>\n",
       "    </tr>\n",
       "    <tr>\n",
       "      <th>6174</th>\n",
       "      <td>YV78_1270</td>\n",
       "      <td>Porcheville 78440</td>\n",
       "      <td>Achat maison 6 pièces 145 m², Porcheville - 28...</td>\n",
       "      <td>280 000 €</td>\n",
       "      <td>145 m²</td>\n",
       "      <td>6 pièces</td>\n",
       "      <td>4 chambres</td>\n",
       "      <td>2 places de parking</td>\n",
       "      <td>Jardin</td>\n",
       "      <td>NaN</td>\n",
       "      <td>...</td>\n",
       "      <td>280000.0</td>\n",
       "      <td>145.00</td>\n",
       "      <td>6.0</td>\n",
       "      <td>4.0</td>\n",
       "      <td>78440</td>\n",
       "      <td>78</td>\n",
       "      <td>Porcheville</td>\n",
       "      <td>Porcheville</td>\n",
       "      <td>2.0</td>\n",
       "      <td>True</td>\n",
       "    </tr>\n",
       "    <tr>\n",
       "      <th>6175</th>\n",
       "      <td>YV78_1271</td>\n",
       "      <td>Sartrouville 78500 (Le Val Notre-Dame)</td>\n",
       "      <td>Achat maison 5 pièces 160 m², Sartrouville - 5...</td>\n",
       "      <td>566 000 €</td>\n",
       "      <td>160 m²</td>\n",
       "      <td>5 pièces</td>\n",
       "      <td>3 chambres</td>\n",
       "      <td>2 places de parking</td>\n",
       "      <td>Jardin</td>\n",
       "      <td>NaN</td>\n",
       "      <td>...</td>\n",
       "      <td>566000.0</td>\n",
       "      <td>160.00</td>\n",
       "      <td>5.0</td>\n",
       "      <td>3.0</td>\n",
       "      <td>78500</td>\n",
       "      <td>78</td>\n",
       "      <td>Sartrouville  (Le Val Notre-Dame)</td>\n",
       "      <td>Le Val Notre-Dame</td>\n",
       "      <td>2.0</td>\n",
       "      <td>True</td>\n",
       "    </tr>\n",
       "    <tr>\n",
       "      <th>6176</th>\n",
       "      <td>YV78_1272</td>\n",
       "      <td>Verneuil-sur-Seine 78480 (Les Clairières - Les...</td>\n",
       "      <td>Achat maison 7 pièces 145 m², Verneuil-sur-Sei...</td>\n",
       "      <td>484 000 €</td>\n",
       "      <td>145 m²</td>\n",
       "      <td>7 pièces</td>\n",
       "      <td>5 chambres</td>\n",
       "      <td>2 parkings extérieurs</td>\n",
       "      <td>Jardin de 801 m²</td>\n",
       "      <td>NaN</td>\n",
       "      <td>...</td>\n",
       "      <td>484000.0</td>\n",
       "      <td>145.00</td>\n",
       "      <td>7.0</td>\n",
       "      <td>5.0</td>\n",
       "      <td>78480</td>\n",
       "      <td>78</td>\n",
       "      <td>Verneuil-sur-Seine  (Les Clairières - Les Rena...</td>\n",
       "      <td>Les Clairières - Les Renardières</td>\n",
       "      <td>2.0</td>\n",
       "      <td>True</td>\n",
       "    </tr>\n",
       "    <tr>\n",
       "      <th>6177</th>\n",
       "      <td>YV78_1273</td>\n",
       "      <td>Bougival 78380</td>\n",
       "      <td>Achat maison 8 pièces 200 m², Bougival - 905 0...</td>\n",
       "      <td>905 000 €</td>\n",
       "      <td>200 m²</td>\n",
       "      <td>8 pièces</td>\n",
       "      <td>5 chambres</td>\n",
       "      <td>2 places de parking</td>\n",
       "      <td>Jardin</td>\n",
       "      <td>NaN</td>\n",
       "      <td>...</td>\n",
       "      <td>905000.0</td>\n",
       "      <td>200.00</td>\n",
       "      <td>8.0</td>\n",
       "      <td>5.0</td>\n",
       "      <td>78380</td>\n",
       "      <td>78</td>\n",
       "      <td>Bougival</td>\n",
       "      <td>Bougival</td>\n",
       "      <td>2.0</td>\n",
       "      <td>True</td>\n",
       "    </tr>\n",
       "  </tbody>\n",
       "</table>\n",
       "<p>6178 rows × 28 columns</p>\n",
       "</div>"
      ],
      "text/plain": [
       "      id_hourse                                           Addresse  \\\n",
       "0        ES91_0                         Boussy-Saint-Antoine 91800   \n",
       "1        ES91_1                    Chilly-Mazarin 91380 (Gravigny)   \n",
       "2        ES91_2   Sainte-Geneviève-des-Bois 91700 (Georges Pitard)   \n",
       "3        ES91_3                  Longjumeau 91160 (Gubanski - Sud)   \n",
       "4        ES91_4                  Morsang-sur-Orge 91390 (Langevin)   \n",
       "...         ...                                                ...   \n",
       "6173  YV78_1269                                      Bouafle 78410   \n",
       "6174  YV78_1270                                  Porcheville 78440   \n",
       "6175  YV78_1271             Sartrouville 78500 (Le Val Notre-Dame)   \n",
       "6176  YV78_1272  Verneuil-sur-Seine 78480 (Les Clairières - Les...   \n",
       "6177  YV78_1273                                     Bougival 78380   \n",
       "\n",
       "                                                  Titre       Prix   Surface  \\\n",
       "0     Achat maison 4 pièces 128 m², Boussy-Saint-Ant...  414 500 €    128 m²   \n",
       "1     Achat maison 4 pièces 82 m², Chilly-Mazarin - ...  357 000 €  81,78 m²   \n",
       "2     Achat maison 6 pièces 163 m², Sainte-Geneviève...  450 000 €    163 m²   \n",
       "3     Achat maison 7 pièces 154 m², Longjumeau - 467...  467 500 €    154 m²   \n",
       "4     Achat maison 7 pièces 155 m², Morsang-sur-Orge...  465 000 €    155 m²   \n",
       "...                                                 ...        ...       ...   \n",
       "6173  Achat maison 7 pièces 245 m², Bouafle - 625 000 €  625 000 €    245 m²   \n",
       "6174  Achat maison 6 pièces 145 m², Porcheville - 28...  280 000 €    145 m²   \n",
       "6175  Achat maison 5 pièces 160 m², Sartrouville - 5...  566 000 €    160 m²   \n",
       "6176  Achat maison 7 pièces 145 m², Verneuil-sur-Sei...  484 000 €    145 m²   \n",
       "6177  Achat maison 8 pièces 200 m², Bougival - 905 0...  905 000 €    200 m²   \n",
       "\n",
       "      Nb_piece  Nb_chambre                Parking            Jardin  \\\n",
       "0     4 pièces  3 chambres    2 places de parking            Jardin   \n",
       "1     4 pièces  3 chambres    3 places de parking            Jardin   \n",
       "2     6 pièces  4 chambres    3 places de parking            Jardin   \n",
       "3     7 pièces  4 chambres    8 places de parking            Jardin   \n",
       "4     7 pièces  5 chambres    6 places de parking            Jardin   \n",
       "...        ...         ...                    ...               ...   \n",
       "6173  7 pièces  4 chambres    2 places de parking            Jardin   \n",
       "6174  6 pièces  4 chambres    2 places de parking            Jardin   \n",
       "6175  5 pièces  3 chambres    2 places de parking            Jardin   \n",
       "6176  7 pièces  5 chambres  2 parkings extérieurs  Jardin de 801 m²   \n",
       "6177  8 pièces  5 chambres    2 places de parking            Jardin   \n",
       "\n",
       "      Ascenseur  ...     PrixR SurfaceR Nb_PiecesR Nb_ChambresR DepartR Dep  \\\n",
       "0           NaN  ...  414500.0   128.00        4.0          3.0   91800  91   \n",
       "1           NaN  ...  357000.0    81.78        4.0          3.0   91380  91   \n",
       "2           NaN  ...  450000.0   163.00        6.0          4.0   91700  91   \n",
       "3           NaN  ...  467500.0   154.00        7.0          4.0   91160  91   \n",
       "4           NaN  ...  465000.0   155.00        7.0          5.0   91390  91   \n",
       "...         ...  ...       ...      ...        ...          ...     ...  ..   \n",
       "6173        NaN  ...  625000.0   245.00        7.0          4.0   78410  78   \n",
       "6174        NaN  ...  280000.0   145.00        6.0          4.0   78440  78   \n",
       "6175        NaN  ...  566000.0   160.00        5.0          3.0   78500  78   \n",
       "6176        NaN  ...  484000.0   145.00        7.0          5.0   78480  78   \n",
       "6177        NaN  ...  905000.0   200.00        8.0          5.0   78380  78   \n",
       "\n",
       "                                                  ZoneR  \\\n",
       "0                                 Boussy-Saint-Antoine    \n",
       "1                            Chilly-Mazarin  (Gravigny)   \n",
       "2           Sainte-Geneviève-des-Bois  (Georges Pitard)   \n",
       "3                          Longjumeau  (Gubanski - Sud)   \n",
       "4                          Morsang-sur-Orge  (Langevin)   \n",
       "...                                                 ...   \n",
       "6173                                           Bouafle    \n",
       "6174                                       Porcheville    \n",
       "6175                  Sartrouville  (Le Val Notre-Dame)   \n",
       "6176  Verneuil-sur-Seine  (Les Clairières - Les Rena...   \n",
       "6177                                          Bougival    \n",
       "\n",
       "                          EmplacementR  ParkingR  JardinR  \n",
       "0                Boussy-Saint-Antoine        2.0     True  \n",
       "1                             Gravigny       3.0     True  \n",
       "2                       Georges Pitard       3.0     True  \n",
       "3                       Gubanski - Sud       8.0     True  \n",
       "4                             Langevin       6.0     True  \n",
       "...                                ...       ...      ...  \n",
       "6173                          Bouafle        2.0     True  \n",
       "6174                      Porcheville        2.0     True  \n",
       "6175                 Le Val Notre-Dame       2.0     True  \n",
       "6176  Les Clairières - Les Renardières       2.0     True  \n",
       "6177                         Bougival        2.0     True  \n",
       "\n",
       "[6178 rows x 28 columns]"
      ]
     },
     "execution_count": 23,
     "metadata": {},
     "output_type": "execute_result"
    }
   ],
   "source": [
    "data"
   ]
  },
  {
   "cell_type": "markdown",
   "metadata": {},
   "source": [
    "### 3. Statistiques descriptives"
   ]
  },
  {
   "cell_type": "code",
   "execution_count": 24,
   "metadata": {},
   "outputs": [
    {
     "data": {
      "text/plain": [
       "Index(['id_hourse', 'Addresse', 'Titre', 'Prix', 'Surface', 'Nb_piece',\n",
       "       'Nb_chambre', 'Parking', 'Jardin', 'Ascenseur', 'Terrasse', 'Garage',\n",
       "       'Prix_sur', 'Reference', 'Date_publication', 'Date_modification',\n",
       "       'Titre_description', 'Description', 'PrixR', 'SurfaceR', 'Nb_PiecesR',\n",
       "       'Nb_ChambresR', 'DepartR', 'Dep', 'ZoneR', 'EmplacementR', 'ParkingR',\n",
       "       'JardinR'],\n",
       "      dtype='object')"
      ]
     },
     "execution_count": 24,
     "metadata": {},
     "output_type": "execute_result"
    }
   ],
   "source": [
    "donnee=data\n",
    "donnee.columns"
   ]
  },
  {
   "cell_type": "code",
   "execution_count": 25,
   "metadata": {},
   "outputs": [],
   "source": [
    "dataSubset=donnee[['id_hourse','PrixR', 'SurfaceR', 'Nb_PiecesR',\n",
    "       'Nb_ChambresR', 'ParkingR', 'JardinR', 'Dep', 'ZoneR',\n",
    "       'EmplacementR']]"
   ]
  },
  {
   "cell_type": "code",
   "execution_count": 26,
   "metadata": {},
   "outputs": [
    {
     "data": {
      "text/html": [
       "<div>\n",
       "<style scoped>\n",
       "    .dataframe tbody tr th:only-of-type {\n",
       "        vertical-align: middle;\n",
       "    }\n",
       "\n",
       "    .dataframe tbody tr th {\n",
       "        vertical-align: top;\n",
       "    }\n",
       "\n",
       "    .dataframe thead th {\n",
       "        text-align: right;\n",
       "    }\n",
       "</style>\n",
       "<table border=\"1\" class=\"dataframe\">\n",
       "  <thead>\n",
       "    <tr style=\"text-align: right;\">\n",
       "      <th></th>\n",
       "      <th>id_hourse</th>\n",
       "      <th>PrixR</th>\n",
       "      <th>SurfaceR</th>\n",
       "      <th>Nb_PiecesR</th>\n",
       "      <th>Nb_ChambresR</th>\n",
       "      <th>ParkingR</th>\n",
       "      <th>JardinR</th>\n",
       "      <th>Dep</th>\n",
       "      <th>ZoneR</th>\n",
       "      <th>EmplacementR</th>\n",
       "    </tr>\n",
       "  </thead>\n",
       "  <tbody>\n",
       "    <tr>\n",
       "      <th>0</th>\n",
       "      <td>ES91_0</td>\n",
       "      <td>414500.0</td>\n",
       "      <td>128.00</td>\n",
       "      <td>4.0</td>\n",
       "      <td>3.0</td>\n",
       "      <td>2.0</td>\n",
       "      <td>True</td>\n",
       "      <td>91</td>\n",
       "      <td>Boussy-Saint-Antoine</td>\n",
       "      <td>Boussy-Saint-Antoine</td>\n",
       "    </tr>\n",
       "    <tr>\n",
       "      <th>1</th>\n",
       "      <td>ES91_1</td>\n",
       "      <td>357000.0</td>\n",
       "      <td>81.78</td>\n",
       "      <td>4.0</td>\n",
       "      <td>3.0</td>\n",
       "      <td>3.0</td>\n",
       "      <td>True</td>\n",
       "      <td>91</td>\n",
       "      <td>Chilly-Mazarin  (Gravigny)</td>\n",
       "      <td>Gravigny</td>\n",
       "    </tr>\n",
       "    <tr>\n",
       "      <th>2</th>\n",
       "      <td>ES91_2</td>\n",
       "      <td>450000.0</td>\n",
       "      <td>163.00</td>\n",
       "      <td>6.0</td>\n",
       "      <td>4.0</td>\n",
       "      <td>3.0</td>\n",
       "      <td>True</td>\n",
       "      <td>91</td>\n",
       "      <td>Sainte-Geneviève-des-Bois  (Georges Pitard)</td>\n",
       "      <td>Georges Pitard</td>\n",
       "    </tr>\n",
       "    <tr>\n",
       "      <th>3</th>\n",
       "      <td>ES91_3</td>\n",
       "      <td>467500.0</td>\n",
       "      <td>154.00</td>\n",
       "      <td>7.0</td>\n",
       "      <td>4.0</td>\n",
       "      <td>8.0</td>\n",
       "      <td>True</td>\n",
       "      <td>91</td>\n",
       "      <td>Longjumeau  (Gubanski - Sud)</td>\n",
       "      <td>Gubanski - Sud</td>\n",
       "    </tr>\n",
       "    <tr>\n",
       "      <th>4</th>\n",
       "      <td>ES91_4</td>\n",
       "      <td>465000.0</td>\n",
       "      <td>155.00</td>\n",
       "      <td>7.0</td>\n",
       "      <td>5.0</td>\n",
       "      <td>6.0</td>\n",
       "      <td>True</td>\n",
       "      <td>91</td>\n",
       "      <td>Morsang-sur-Orge  (Langevin)</td>\n",
       "      <td>Langevin</td>\n",
       "    </tr>\n",
       "    <tr>\n",
       "      <th>...</th>\n",
       "      <td>...</td>\n",
       "      <td>...</td>\n",
       "      <td>...</td>\n",
       "      <td>...</td>\n",
       "      <td>...</td>\n",
       "      <td>...</td>\n",
       "      <td>...</td>\n",
       "      <td>...</td>\n",
       "      <td>...</td>\n",
       "      <td>...</td>\n",
       "    </tr>\n",
       "    <tr>\n",
       "      <th>6173</th>\n",
       "      <td>YV78_1269</td>\n",
       "      <td>625000.0</td>\n",
       "      <td>245.00</td>\n",
       "      <td>7.0</td>\n",
       "      <td>4.0</td>\n",
       "      <td>2.0</td>\n",
       "      <td>True</td>\n",
       "      <td>78</td>\n",
       "      <td>Bouafle</td>\n",
       "      <td>Bouafle</td>\n",
       "    </tr>\n",
       "    <tr>\n",
       "      <th>6174</th>\n",
       "      <td>YV78_1270</td>\n",
       "      <td>280000.0</td>\n",
       "      <td>145.00</td>\n",
       "      <td>6.0</td>\n",
       "      <td>4.0</td>\n",
       "      <td>2.0</td>\n",
       "      <td>True</td>\n",
       "      <td>78</td>\n",
       "      <td>Porcheville</td>\n",
       "      <td>Porcheville</td>\n",
       "    </tr>\n",
       "    <tr>\n",
       "      <th>6175</th>\n",
       "      <td>YV78_1271</td>\n",
       "      <td>566000.0</td>\n",
       "      <td>160.00</td>\n",
       "      <td>5.0</td>\n",
       "      <td>3.0</td>\n",
       "      <td>2.0</td>\n",
       "      <td>True</td>\n",
       "      <td>78</td>\n",
       "      <td>Sartrouville  (Le Val Notre-Dame)</td>\n",
       "      <td>Le Val Notre-Dame</td>\n",
       "    </tr>\n",
       "    <tr>\n",
       "      <th>6176</th>\n",
       "      <td>YV78_1272</td>\n",
       "      <td>484000.0</td>\n",
       "      <td>145.00</td>\n",
       "      <td>7.0</td>\n",
       "      <td>5.0</td>\n",
       "      <td>2.0</td>\n",
       "      <td>True</td>\n",
       "      <td>78</td>\n",
       "      <td>Verneuil-sur-Seine  (Les Clairières - Les Rena...</td>\n",
       "      <td>Les Clairières - Les Renardières</td>\n",
       "    </tr>\n",
       "    <tr>\n",
       "      <th>6177</th>\n",
       "      <td>YV78_1273</td>\n",
       "      <td>905000.0</td>\n",
       "      <td>200.00</td>\n",
       "      <td>8.0</td>\n",
       "      <td>5.0</td>\n",
       "      <td>2.0</td>\n",
       "      <td>True</td>\n",
       "      <td>78</td>\n",
       "      <td>Bougival</td>\n",
       "      <td>Bougival</td>\n",
       "    </tr>\n",
       "  </tbody>\n",
       "</table>\n",
       "<p>6178 rows × 10 columns</p>\n",
       "</div>"
      ],
      "text/plain": [
       "      id_hourse     PrixR  SurfaceR  Nb_PiecesR  Nb_ChambresR  ParkingR  \\\n",
       "0        ES91_0  414500.0    128.00         4.0           3.0       2.0   \n",
       "1        ES91_1  357000.0     81.78         4.0           3.0       3.0   \n",
       "2        ES91_2  450000.0    163.00         6.0           4.0       3.0   \n",
       "3        ES91_3  467500.0    154.00         7.0           4.0       8.0   \n",
       "4        ES91_4  465000.0    155.00         7.0           5.0       6.0   \n",
       "...         ...       ...       ...         ...           ...       ...   \n",
       "6173  YV78_1269  625000.0    245.00         7.0           4.0       2.0   \n",
       "6174  YV78_1270  280000.0    145.00         6.0           4.0       2.0   \n",
       "6175  YV78_1271  566000.0    160.00         5.0           3.0       2.0   \n",
       "6176  YV78_1272  484000.0    145.00         7.0           5.0       2.0   \n",
       "6177  YV78_1273  905000.0    200.00         8.0           5.0       2.0   \n",
       "\n",
       "      JardinR Dep                                              ZoneR  \\\n",
       "0        True  91                              Boussy-Saint-Antoine    \n",
       "1        True  91                         Chilly-Mazarin  (Gravigny)   \n",
       "2        True  91        Sainte-Geneviève-des-Bois  (Georges Pitard)   \n",
       "3        True  91                       Longjumeau  (Gubanski - Sud)   \n",
       "4        True  91                       Morsang-sur-Orge  (Langevin)   \n",
       "...       ...  ..                                                ...   \n",
       "6173     True  78                                           Bouafle    \n",
       "6174     True  78                                       Porcheville    \n",
       "6175     True  78                  Sartrouville  (Le Val Notre-Dame)   \n",
       "6176     True  78  Verneuil-sur-Seine  (Les Clairières - Les Rena...   \n",
       "6177     True  78                                          Bougival    \n",
       "\n",
       "                          EmplacementR  \n",
       "0                Boussy-Saint-Antoine   \n",
       "1                             Gravigny  \n",
       "2                       Georges Pitard  \n",
       "3                       Gubanski - Sud  \n",
       "4                             Langevin  \n",
       "...                                ...  \n",
       "6173                          Bouafle   \n",
       "6174                      Porcheville   \n",
       "6175                 Le Val Notre-Dame  \n",
       "6176  Les Clairières - Les Renardières  \n",
       "6177                         Bougival   \n",
       "\n",
       "[6178 rows x 10 columns]"
      ]
     },
     "execution_count": 26,
     "metadata": {},
     "output_type": "execute_result"
    }
   ],
   "source": [
    "dataSubset"
   ]
  },
  {
   "cell_type": "code",
   "execution_count": 27,
   "metadata": {},
   "outputs": [
    {
     "data": {
      "text/html": [
       "<div>\n",
       "<style scoped>\n",
       "    .dataframe tbody tr th:only-of-type {\n",
       "        vertical-align: middle;\n",
       "    }\n",
       "\n",
       "    .dataframe tbody tr th {\n",
       "        vertical-align: top;\n",
       "    }\n",
       "\n",
       "    .dataframe thead th {\n",
       "        text-align: right;\n",
       "    }\n",
       "</style>\n",
       "<table border=\"1\" class=\"dataframe\">\n",
       "  <thead>\n",
       "    <tr style=\"text-align: right;\">\n",
       "      <th></th>\n",
       "      <th>PrixR</th>\n",
       "      <th>SurfaceR</th>\n",
       "      <th>Nb_PiecesR</th>\n",
       "      <th>Nb_ChambresR</th>\n",
       "      <th>ParkingR</th>\n",
       "    </tr>\n",
       "  </thead>\n",
       "  <tbody>\n",
       "    <tr>\n",
       "      <th>count</th>\n",
       "      <td>6.089000e+03</td>\n",
       "      <td>6057.000000</td>\n",
       "      <td>6081.000000</td>\n",
       "      <td>6032.000000</td>\n",
       "      <td>6178.000000</td>\n",
       "    </tr>\n",
       "    <tr>\n",
       "      <th>mean</th>\n",
       "      <td>6.167527e+05</td>\n",
       "      <td>150.074806</td>\n",
       "      <td>6.060681</td>\n",
       "      <td>3.868700</td>\n",
       "      <td>1.155876</td>\n",
       "    </tr>\n",
       "    <tr>\n",
       "      <th>std</th>\n",
       "      <td>1.069838e+06</td>\n",
       "      <td>83.612773</td>\n",
       "      <td>3.165205</td>\n",
       "      <td>1.404331</td>\n",
       "      <td>2.249346</td>\n",
       "    </tr>\n",
       "    <tr>\n",
       "      <th>min</th>\n",
       "      <td>2.596600e+04</td>\n",
       "      <td>16.510000</td>\n",
       "      <td>1.000000</td>\n",
       "      <td>1.000000</td>\n",
       "      <td>0.000000</td>\n",
       "    </tr>\n",
       "    <tr>\n",
       "      <th>25%</th>\n",
       "      <td>3.120000e+05</td>\n",
       "      <td>97.990000</td>\n",
       "      <td>5.000000</td>\n",
       "      <td>3.000000</td>\n",
       "      <td>0.000000</td>\n",
       "    </tr>\n",
       "    <tr>\n",
       "      <th>50%</th>\n",
       "      <td>4.430000e+05</td>\n",
       "      <td>130.000000</td>\n",
       "      <td>6.000000</td>\n",
       "      <td>4.000000</td>\n",
       "      <td>0.000000</td>\n",
       "    </tr>\n",
       "    <tr>\n",
       "      <th>75%</th>\n",
       "      <td>6.799000e+05</td>\n",
       "      <td>175.000000</td>\n",
       "      <td>7.000000</td>\n",
       "      <td>5.000000</td>\n",
       "      <td>2.000000</td>\n",
       "    </tr>\n",
       "    <tr>\n",
       "      <th>max</th>\n",
       "      <td>6.000000e+07</td>\n",
       "      <td>990.000000</td>\n",
       "      <td>166.000000</td>\n",
       "      <td>32.000000</td>\n",
       "      <td>99.000000</td>\n",
       "    </tr>\n",
       "  </tbody>\n",
       "</table>\n",
       "</div>"
      ],
      "text/plain": [
       "              PrixR     SurfaceR   Nb_PiecesR  Nb_ChambresR     ParkingR\n",
       "count  6.089000e+03  6057.000000  6081.000000   6032.000000  6178.000000\n",
       "mean   6.167527e+05   150.074806     6.060681      3.868700     1.155876\n",
       "std    1.069838e+06    83.612773     3.165205      1.404331     2.249346\n",
       "min    2.596600e+04    16.510000     1.000000      1.000000     0.000000\n",
       "25%    3.120000e+05    97.990000     5.000000      3.000000     0.000000\n",
       "50%    4.430000e+05   130.000000     6.000000      4.000000     0.000000\n",
       "75%    6.799000e+05   175.000000     7.000000      5.000000     2.000000\n",
       "max    6.000000e+07   990.000000   166.000000     32.000000    99.000000"
      ]
     },
     "execution_count": 27,
     "metadata": {},
     "output_type": "execute_result"
    }
   ],
   "source": [
    "dataSubset.describe()"
   ]
  },
  {
   "cell_type": "code",
   "execution_count": 28,
   "metadata": {},
   "outputs": [
    {
     "data": {
      "text/html": [
       "<div>\n",
       "<style scoped>\n",
       "    .dataframe tbody tr th:only-of-type {\n",
       "        vertical-align: middle;\n",
       "    }\n",
       "\n",
       "    .dataframe tbody tr th {\n",
       "        vertical-align: top;\n",
       "    }\n",
       "\n",
       "    .dataframe thead th {\n",
       "        text-align: right;\n",
       "    }\n",
       "</style>\n",
       "<table border=\"1\" class=\"dataframe\">\n",
       "  <thead>\n",
       "    <tr style=\"text-align: right;\">\n",
       "      <th></th>\n",
       "      <th>PrixR</th>\n",
       "      <th>SurfaceR</th>\n",
       "      <th>Nb_PiecesR</th>\n",
       "      <th>Nb_ChambresR</th>\n",
       "      <th>ParkingR</th>\n",
       "      <th>JardinR</th>\n",
       "    </tr>\n",
       "  </thead>\n",
       "  <tbody>\n",
       "    <tr>\n",
       "      <th>PrixR</th>\n",
       "      <td>1.000000</td>\n",
       "      <td>0.540392</td>\n",
       "      <td>0.427750</td>\n",
       "      <td>0.354132</td>\n",
       "      <td>0.008135</td>\n",
       "      <td>-0.077554</td>\n",
       "    </tr>\n",
       "    <tr>\n",
       "      <th>SurfaceR</th>\n",
       "      <td>0.540392</td>\n",
       "      <td>1.000000</td>\n",
       "      <td>0.579588</td>\n",
       "      <td>0.684230</td>\n",
       "      <td>0.145032</td>\n",
       "      <td>0.063997</td>\n",
       "    </tr>\n",
       "    <tr>\n",
       "      <th>Nb_PiecesR</th>\n",
       "      <td>0.427750</td>\n",
       "      <td>0.579588</td>\n",
       "      <td>1.000000</td>\n",
       "      <td>0.630537</td>\n",
       "      <td>0.092185</td>\n",
       "      <td>0.079363</td>\n",
       "    </tr>\n",
       "    <tr>\n",
       "      <th>Nb_ChambresR</th>\n",
       "      <td>0.354132</td>\n",
       "      <td>0.684230</td>\n",
       "      <td>0.630537</td>\n",
       "      <td>1.000000</td>\n",
       "      <td>0.106755</td>\n",
       "      <td>0.106745</td>\n",
       "    </tr>\n",
       "    <tr>\n",
       "      <th>ParkingR</th>\n",
       "      <td>0.008135</td>\n",
       "      <td>0.145032</td>\n",
       "      <td>0.092185</td>\n",
       "      <td>0.106755</td>\n",
       "      <td>1.000000</td>\n",
       "      <td>0.121217</td>\n",
       "    </tr>\n",
       "    <tr>\n",
       "      <th>JardinR</th>\n",
       "      <td>-0.077554</td>\n",
       "      <td>0.063997</td>\n",
       "      <td>0.079363</td>\n",
       "      <td>0.106745</td>\n",
       "      <td>0.121217</td>\n",
       "      <td>1.000000</td>\n",
       "    </tr>\n",
       "  </tbody>\n",
       "</table>\n",
       "</div>"
      ],
      "text/plain": [
       "                 PrixR  SurfaceR  Nb_PiecesR  Nb_ChambresR  ParkingR   JardinR\n",
       "PrixR         1.000000  0.540392    0.427750      0.354132  0.008135 -0.077554\n",
       "SurfaceR      0.540392  1.000000    0.579588      0.684230  0.145032  0.063997\n",
       "Nb_PiecesR    0.427750  0.579588    1.000000      0.630537  0.092185  0.079363\n",
       "Nb_ChambresR  0.354132  0.684230    0.630537      1.000000  0.106755  0.106745\n",
       "ParkingR      0.008135  0.145032    0.092185      0.106755  1.000000  0.121217\n",
       "JardinR      -0.077554  0.063997    0.079363      0.106745  0.121217  1.000000"
      ]
     },
     "execution_count": 28,
     "metadata": {},
     "output_type": "execute_result"
    }
   ],
   "source": [
    "### \n",
    "dataSubset.corr()"
   ]
  },
  {
   "cell_type": "code",
   "execution_count": 29,
   "metadata": {},
   "outputs": [
    {
     "data": {
      "text/plain": [
       "<matplotlib.axes._subplots.AxesSubplot at 0x22936619908>"
      ]
     },
     "execution_count": 29,
     "metadata": {},
     "output_type": "execute_result"
    },
    {
     "data": {
      "image/png": "[encoded data removed]",
      "text/plain": [
       "<Figure size 432x288 with 1 Axes>"
      ]
     },
     "metadata": {
      "needs_background": "light"
     },
     "output_type": "display_data"
    }
   ],
   "source": [
    "dataSubset.PrixR.plot.hist()"
   ]
  },
  {
   "cell_type": "code",
   "execution_count": 30,
   "metadata": {},
   "outputs": [
    {
     "data": {
      "text/plain": [
       "<matplotlib.axes._subplots.AxesSubplot at 0x229376198c8>"
      ]
     },
     "execution_count": 30,
     "metadata": {},
     "output_type": "execute_result"
    },
    {
     "data": {
      "image/png": "[encoded data removed]",
      "text/plain": [
       "<Figure size 432x288 with 1 Axes>"
      ]
     },
     "metadata": {
      "needs_background": "light"
     },
     "output_type": "display_data"
    }
   ],
   "source": [
    "dataSubset.PrixR.apply(np.log).plot.hist()"
   ]
  },
  {
   "cell_type": "code",
   "execution_count": 31,
   "metadata": {},
   "outputs": [
    {
     "data": {
      "text/plain": [
       "<matplotlib.axes._subplots.AxesSubplot at 0x22937685f48>"
      ]
     },
     "execution_count": 31,
     "metadata": {},
     "output_type": "execute_result"
    },
    {
     "data": {
      "image/png": "[encoded data removed]",
      "text/plain": [
       "<Figure size 432x288 with 1 Axes>"
      ]
     },
     "metadata": {
      "needs_background": "light"
     },
     "output_type": "display_data"
    }
   ],
   "source": [
    "dataSubset['SurfaceR'].plot.hist()"
   ]
  },
  {
   "cell_type": "code",
   "execution_count": 32,
   "metadata": {},
   "outputs": [
    {
     "data": {
      "text/plain": [
       "<matplotlib.axes._subplots.AxesSubplot at 0x229377b19c8>"
      ]
     },
     "execution_count": 32,
     "metadata": {},
     "output_type": "execute_result"
    },
    {
     "data": {
      "image/png": "[encoded data removed]",
      "text/plain": [
       "<Figure size 432x288 with 1 Axes>"
      ]
     },
     "metadata": {
      "needs_background": "light"
     },
     "output_type": "display_data"
    }
   ],
   "source": [
    "dataSubset['SurfaceR'].apply(np.log).plot.hist()"
   ]
  },
  {
   "cell_type": "code",
   "execution_count": 33,
   "metadata": {},
   "outputs": [
    {
     "data": {
      "text/plain": [
       "<matplotlib.axes._subplots.AxesSubplot at 0x229377eff88>"
      ]
     },
     "execution_count": 33,
     "metadata": {},
     "output_type": "execute_result"
    },
    {
     "data": {
      "image/png": "[encoded data removed]",
      "text/plain": [
       "<Figure size 432x288 with 1 Axes>"
      ]
     },
     "metadata": {
      "needs_background": "light"
     },
     "output_type": "display_data"
    }
   ],
   "source": [
    "dataSubset['Nb_ChambresR'].plot.hist()"
   ]
  },
  {
   "cell_type": "code",
   "execution_count": 34,
   "metadata": {},
   "outputs": [
    {
     "data": {
      "text/plain": [
       "<matplotlib.axes._subplots.AxesSubplot at 0x22937649c88>"
      ]
     },
     "execution_count": 34,
     "metadata": {},
     "output_type": "execute_result"
    },
    {
     "data": {
      "image/png": "[encoded data removed]",
      "text/plain": [
       "<Figure size 432x288 with 1 Axes>"
      ]
     },
     "metadata": {
      "needs_background": "light"
     },
     "output_type": "display_data"
    }
   ],
   "source": [
    "dataSubset['Nb_PiecesR'].plot.hist()"
   ]
  },
  {
   "cell_type": "code",
   "execution_count": 35,
   "metadata": {},
   "outputs": [
    {
     "data": {
      "text/plain": [
       "<matplotlib.axes._subplots.AxesSubplot at 0x229380194c8>"
      ]
     },
     "execution_count": 35,
     "metadata": {},
     "output_type": "execute_result"
    },
    {
     "data": {
      "image/png": "[encoded data removed]",
      "text/plain": [
       "<Figure size 432x288 with 1 Axes>"
      ]
     },
     "metadata": {
      "needs_background": "light"
     },
     "output_type": "display_data"
    }
   ],
   "source": [
    "dataSubset['Nb_PiecesR'].value_counts().plot.bar()"
   ]
  },
  {
   "cell_type": "code",
   "execution_count": 36,
   "metadata": {},
   "outputs": [
    {
     "data": {
      "text/plain": [
       "<matplotlib.axes._subplots.AxesSubplot at 0x229380df608>"
      ]
     },
     "execution_count": 36,
     "metadata": {},
     "output_type": "execute_result"
    },
    {
     "data": {
      "image/png": "[encoded data removed]",
      "text/plain": [
       "<Figure size 432x288 with 1 Axes>"
      ]
     },
     "metadata": {
      "needs_background": "light"
     },
     "output_type": "display_data"
    }
   ],
   "source": [
    "dataSubset['Nb_ChambresR'].value_counts().plot.bar()"
   ]
  },
  {
   "cell_type": "code",
   "execution_count": 37,
   "metadata": {},
   "outputs": [],
   "source": [
    "import seaborn as sns\n",
    "import scipy as stats"
   ]
  },
  {
   "cell_type": "code",
   "execution_count": 38,
   "metadata": {},
   "outputs": [
    {
     "data": {
      "text/html": [
       "<div>\n",
       "<style scoped>\n",
       "    .dataframe tbody tr th:only-of-type {\n",
       "        vertical-align: middle;\n",
       "    }\n",
       "\n",
       "    .dataframe tbody tr th {\n",
       "        vertical-align: top;\n",
       "    }\n",
       "\n",
       "    .dataframe thead th {\n",
       "        text-align: right;\n",
       "    }\n",
       "</style>\n",
       "<table border=\"1\" class=\"dataframe\">\n",
       "  <thead>\n",
       "    <tr style=\"text-align: right;\">\n",
       "      <th></th>\n",
       "      <th>PrixR</th>\n",
       "      <th>SurfaceR</th>\n",
       "      <th>Nb_PiecesR</th>\n",
       "      <th>Nb_ChambresR</th>\n",
       "      <th>ParkingR</th>\n",
       "    </tr>\n",
       "  </thead>\n",
       "  <tbody>\n",
       "    <tr>\n",
       "      <th>0</th>\n",
       "      <td>414500.0</td>\n",
       "      <td>128.00</td>\n",
       "      <td>4.0</td>\n",
       "      <td>3.0</td>\n",
       "      <td>2.0</td>\n",
       "    </tr>\n",
       "    <tr>\n",
       "      <th>1</th>\n",
       "      <td>357000.0</td>\n",
       "      <td>81.78</td>\n",
       "      <td>4.0</td>\n",
       "      <td>3.0</td>\n",
       "      <td>3.0</td>\n",
       "    </tr>\n",
       "    <tr>\n",
       "      <th>2</th>\n",
       "      <td>450000.0</td>\n",
       "      <td>163.00</td>\n",
       "      <td>6.0</td>\n",
       "      <td>4.0</td>\n",
       "      <td>3.0</td>\n",
       "    </tr>\n",
       "    <tr>\n",
       "      <th>3</th>\n",
       "      <td>467500.0</td>\n",
       "      <td>154.00</td>\n",
       "      <td>7.0</td>\n",
       "      <td>4.0</td>\n",
       "      <td>8.0</td>\n",
       "    </tr>\n",
       "    <tr>\n",
       "      <th>4</th>\n",
       "      <td>465000.0</td>\n",
       "      <td>155.00</td>\n",
       "      <td>7.0</td>\n",
       "      <td>5.0</td>\n",
       "      <td>6.0</td>\n",
       "    </tr>\n",
       "    <tr>\n",
       "      <th>...</th>\n",
       "      <td>...</td>\n",
       "      <td>...</td>\n",
       "      <td>...</td>\n",
       "      <td>...</td>\n",
       "      <td>...</td>\n",
       "    </tr>\n",
       "    <tr>\n",
       "      <th>6173</th>\n",
       "      <td>625000.0</td>\n",
       "      <td>245.00</td>\n",
       "      <td>7.0</td>\n",
       "      <td>4.0</td>\n",
       "      <td>2.0</td>\n",
       "    </tr>\n",
       "    <tr>\n",
       "      <th>6174</th>\n",
       "      <td>280000.0</td>\n",
       "      <td>145.00</td>\n",
       "      <td>6.0</td>\n",
       "      <td>4.0</td>\n",
       "      <td>2.0</td>\n",
       "    </tr>\n",
       "    <tr>\n",
       "      <th>6175</th>\n",
       "      <td>566000.0</td>\n",
       "      <td>160.00</td>\n",
       "      <td>5.0</td>\n",
       "      <td>3.0</td>\n",
       "      <td>2.0</td>\n",
       "    </tr>\n",
       "    <tr>\n",
       "      <th>6176</th>\n",
       "      <td>484000.0</td>\n",
       "      <td>145.00</td>\n",
       "      <td>7.0</td>\n",
       "      <td>5.0</td>\n",
       "      <td>2.0</td>\n",
       "    </tr>\n",
       "    <tr>\n",
       "      <th>6177</th>\n",
       "      <td>905000.0</td>\n",
       "      <td>200.00</td>\n",
       "      <td>8.0</td>\n",
       "      <td>5.0</td>\n",
       "      <td>2.0</td>\n",
       "    </tr>\n",
       "  </tbody>\n",
       "</table>\n",
       "<p>6178 rows × 5 columns</p>\n",
       "</div>"
      ],
      "text/plain": [
       "         PrixR  SurfaceR  Nb_PiecesR  Nb_ChambresR  ParkingR\n",
       "0     414500.0    128.00         4.0           3.0       2.0\n",
       "1     357000.0     81.78         4.0           3.0       3.0\n",
       "2     450000.0    163.00         6.0           4.0       3.0\n",
       "3     467500.0    154.00         7.0           4.0       8.0\n",
       "4     465000.0    155.00         7.0           5.0       6.0\n",
       "...        ...       ...         ...           ...       ...\n",
       "6173  625000.0    245.00         7.0           4.0       2.0\n",
       "6174  280000.0    145.00         6.0           4.0       2.0\n",
       "6175  566000.0    160.00         5.0           3.0       2.0\n",
       "6176  484000.0    145.00         7.0           5.0       2.0\n",
       "6177  905000.0    200.00         8.0           5.0       2.0\n",
       "\n",
       "[6178 rows x 5 columns]"
      ]
     },
     "execution_count": 38,
     "metadata": {},
     "output_type": "execute_result"
    }
   ],
   "source": [
    "Quanti=dataSubset[['PrixR', 'SurfaceR', 'Nb_PiecesR','Nb_ChambresR','ParkingR']]\n",
    "Quanti"
   ]
  },
  {
   "cell_type": "code",
   "execution_count": 39,
   "metadata": {},
   "outputs": [
    {
     "data": {
      "text/plain": [
       "<seaborn.axisgrid.PairGrid at 0x229381a7fc8>"
      ]
     },
     "execution_count": 39,
     "metadata": {},
     "output_type": "execute_result"
    },
    {
     "data": {
      "image/png": "[encoded data removed]",
      "text/plain": [
       "<Figure size 900x900 with 30 Axes>"
      ]
     },
     "metadata": {
      "needs_background": "light"
     },
     "output_type": "display_data"
    }
   ],
   "source": [
    "sns.pairplot(Quanti)"
   ]
  },
  {
   "cell_type": "markdown",
   "metadata": {},
   "source": [
    "### 4. Modélisation : prédiction du prix par les autres variables"
   ]
  },
  {
   "cell_type": "code",
   "execution_count": 40,
   "metadata": {},
   "outputs": [],
   "source": [
    "from sklearn.linear_model import LinearRegression\n",
    "from sklearn.model_selection import train_test_split"
   ]
  },
  {
   "cell_type": "code",
   "execution_count": 41,
   "metadata": {},
   "outputs": [],
   "source": [
    "Quanti=Quanti.dropna()"
   ]
  },
  {
   "cell_type": "code",
   "execution_count": 42,
   "metadata": {},
   "outputs": [
    {
     "data": {
      "text/plain": [
       "(6002, 5)"
      ]
     },
     "execution_count": 42,
     "metadata": {},
     "output_type": "execute_result"
    }
   ],
   "source": [
    "Quanti.shape"
   ]
  },
  {
   "cell_type": "code",
   "execution_count": 43,
   "metadata": {},
   "outputs": [],
   "source": [
    "x_train, x_test, y_train, y_test = train_test_split(\n",
    "    Quanti[[i for i in Quanti.columns if i != 'PrixR']],\n",
    "    Quanti['PrixR'].to_numpy().ravel(),\n",
    "    test_size=0.2, random_state=0\n",
    ")"
   ]
  },
  {
   "cell_type": "code",
   "execution_count": 44,
   "metadata": {},
   "outputs": [],
   "source": [
    "ols = LinearRegression()\n",
    "ols.fit(x_train, y_train)\n",
    "y_pred = ols.predict(x_test)"
   ]
  },
  {
   "cell_type": "code",
   "execution_count": 45,
   "metadata": {},
   "outputs": [
    {
     "data": {
      "text/plain": [
       "3653.95710597781"
      ]
     },
     "execution_count": 45,
     "metadata": {},
     "output_type": "execute_result"
    }
   ],
   "source": [
    "ols.intercept_"
   ]
  },
  {
   "cell_type": "code",
   "execution_count": null,
   "metadata": {},
   "outputs": [],
   "source": []
  },
  {
   "cell_type": "code",
   "execution_count": 46,
   "metadata": {},
   "outputs": [],
   "source": [
    "from sklearn.metrics import r2_score\n",
    "from sklearn.metrics import mean_squared_error"
   ]
  },
  {
   "cell_type": "code",
   "execution_count": 47,
   "metadata": {},
   "outputs": [
    {
     "data": {
      "text/plain": [
       "0.30320147298176303"
      ]
     },
     "execution_count": 47,
     "metadata": {},
     "output_type": "execute_result"
    }
   ],
   "source": [
    "r2 = r2_score(y_test, y_pred)\n",
    "r2"
   ]
  },
  {
   "cell_type": "code",
   "execution_count": 48,
   "metadata": {},
   "outputs": [
    {
     "data": {
      "text/plain": [
       "294654965467.8929"
      ]
     },
     "execution_count": 48,
     "metadata": {},
     "output_type": "execute_result"
    }
   ],
   "source": [
    "mse = mean_squared_error(y_test, y_pred)\n",
    "mse"
   ]
  },
  {
   "cell_type": "code",
   "execution_count": null,
   "metadata": {},
   "outputs": [],
   "source": []
  },
  {
   "cell_type": "code",
   "execution_count": 49,
   "metadata": {},
   "outputs": [],
   "source": [
    "import statsmodels.api as sm\n",
    "import statsmodels.formula.api as smf"
   ]
  },
  {
   "cell_type": "code",
   "execution_count": 50,
   "metadata": {},
   "outputs": [],
   "source": [
    "results_sm = sm.OLS(Quanti['PrixR'], \n",
    "        Quanti[[i for i in Quanti.columns if i != 'PrixR']]).fit()"
   ]
  },
  {
   "cell_type": "code",
   "execution_count": 51,
   "metadata": {},
   "outputs": [],
   "source": [
    "\n",
    "results_sm = sm.OLS(Quanti['PrixR'], \n",
    "        Quanti[[i for i in Quanti.columns if i != 'PrixR']],\n",
    "                   cov_type='HC1').fit()"
   ]
  },
  {
   "cell_type": "code",
   "execution_count": 52,
   "metadata": {},
   "outputs": [
    {
     "data": {
      "text/html": [
       "<table class=\"simpletable\">\n",
       "<caption>OLS Regression Results</caption>\n",
       "<tr>\n",
       "  <th>Dep. Variable:</th>          <td>PrixR</td>      <th>  R-squared (uncentered):</th>      <td>   0.627</td> \n",
       "</tr>\n",
       "<tr>\n",
       "  <th>Model:</th>                   <td>OLS</td>       <th>  Adj. R-squared (uncentered):</th> <td>   0.627</td> \n",
       "</tr>\n",
       "<tr>\n",
       "  <th>Method:</th>             <td>Least Squares</td>  <th>  F-statistic:       </th>          <td>   2524.</td> \n",
       "</tr>\n",
       "<tr>\n",
       "  <th>Date:</th>             <td>Thu, 10 Dec 2020</td> <th>  Prob (F-statistic):</th>           <td>  0.00</td>  \n",
       "</tr>\n",
       "<tr>\n",
       "  <th>Time:</th>                 <td>02:58:15</td>     <th>  Log-Likelihood:    </th>          <td> -87667.</td> \n",
       "</tr>\n",
       "<tr>\n",
       "  <th>No. Observations:</th>      <td>  6002</td>      <th>  AIC:               </th>          <td>1.753e+05</td>\n",
       "</tr>\n",
       "<tr>\n",
       "  <th>Df Residuals:</th>          <td>  5998</td>      <th>  BIC:               </th>          <td>1.754e+05</td>\n",
       "</tr>\n",
       "<tr>\n",
       "  <th>Df Model:</th>              <td>     4</td>      <th>                     </th>              <td> </td>    \n",
       "</tr>\n",
       "<tr>\n",
       "  <th>Covariance Type:</th>      <td>nonrobust</td>    <th>                     </th>              <td> </td>    \n",
       "</tr>\n",
       "</table>\n",
       "<table class=\"simpletable\">\n",
       "<tr>\n",
       "        <td></td>          <th>coef</th>     <th>std err</th>      <th>t</th>      <th>P>|t|</th>  <th>[0.025</th>    <th>0.975]</th>  \n",
       "</tr>\n",
       "<tr>\n",
       "  <th>SurfaceR</th>     <td> 4329.8556</td> <td>  117.968</td> <td>   36.704</td> <td> 0.000</td> <td> 4098.595</td> <td> 4561.116</td>\n",
       "</tr>\n",
       "<tr>\n",
       "  <th>Nb_PiecesR</th>   <td>  589.8910</td> <td> 3028.111</td> <td>    0.195</td> <td> 0.846</td> <td>-5346.295</td> <td> 6526.077</td>\n",
       "</tr>\n",
       "<tr>\n",
       "  <th>Nb_ChambresR</th> <td>-9386.8816</td> <td> 5870.161</td> <td>   -1.599</td> <td> 0.110</td> <td>-2.09e+04</td> <td> 2120.744</td>\n",
       "</tr>\n",
       "<tr>\n",
       "  <th>ParkingR</th>     <td>-1.553e+04</td> <td> 3058.722</td> <td>   -5.078</td> <td> 0.000</td> <td>-2.15e+04</td> <td>-9536.199</td>\n",
       "</tr>\n",
       "</table>\n",
       "<table class=\"simpletable\">\n",
       "<tr>\n",
       "  <th>Omnibus:</th>       <td>9275.336</td> <th>  Durbin-Watson:     </th>  <td>   1.347</td>  \n",
       "</tr>\n",
       "<tr>\n",
       "  <th>Prob(Omnibus):</th>  <td> 0.000</td>  <th>  Jarque-Bera (JB):  </th> <td>8572203.047</td>\n",
       "</tr>\n",
       "<tr>\n",
       "  <th>Skew:</th>           <td> 9.475</td>  <th>  Prob(JB):          </th>  <td>    0.00</td>  \n",
       "</tr>\n",
       "<tr>\n",
       "  <th>Kurtosis:</th>       <td>187.169</td> <th>  Cond. No.          </th>  <td>    154.</td>  \n",
       "</tr>\n",
       "</table><br/><br/>Warnings:<br/>[1] Standard Errors assume that the covariance matrix of the errors is correctly specified."
      ],
      "text/plain": [
       "<class 'statsmodels.iolib.summary.Summary'>\n",
       "\"\"\"\n",
       "                                 OLS Regression Results                                \n",
       "=======================================================================================\n",
       "Dep. Variable:                  PrixR   R-squared (uncentered):                   0.627\n",
       "Model:                            OLS   Adj. R-squared (uncentered):              0.627\n",
       "Method:                 Least Squares   F-statistic:                              2524.\n",
       "Date:                Thu, 10 Dec 2020   Prob (F-statistic):                        0.00\n",
       "Time:                        02:58:15   Log-Likelihood:                         -87667.\n",
       "No. Observations:                6002   AIC:                                  1.753e+05\n",
       "Df Residuals:                    5998   BIC:                                  1.754e+05\n",
       "Df Model:                           4                                                  \n",
       "Covariance Type:            nonrobust                                                  \n",
       "================================================================================\n",
       "                   coef    std err          t      P>|t|      [0.025      0.975]\n",
       "--------------------------------------------------------------------------------\n",
       "SurfaceR      4329.8556    117.968     36.704      0.000    4098.595    4561.116\n",
       "Nb_PiecesR     589.8910   3028.111      0.195      0.846   -5346.295    6526.077\n",
       "Nb_ChambresR -9386.8816   5870.161     -1.599      0.110   -2.09e+04    2120.744\n",
       "ParkingR     -1.553e+04   3058.722     -5.078      0.000   -2.15e+04   -9536.199\n",
       "==============================================================================\n",
       "Omnibus:                     9275.336   Durbin-Watson:                   1.347\n",
       "Prob(Omnibus):                  0.000   Jarque-Bera (JB):          8572203.047\n",
       "Skew:                           9.475   Prob(JB):                         0.00\n",
       "Kurtosis:                     187.169   Cond. No.                         154.\n",
       "==============================================================================\n",
       "\n",
       "Warnings:\n",
       "[1] Standard Errors assume that the covariance matrix of the errors is correctly specified.\n",
       "\"\"\""
      ]
     },
     "execution_count": 52,
     "metadata": {},
     "output_type": "execute_result"
    }
   ],
   "source": [
    "results_sm.summary()"
   ]
  },
  {
   "cell_type": "code",
   "execution_count": null,
   "metadata": {},
   "outputs": [],
   "source": []
  },
  {
   "cell_type": "code",
   "execution_count": 53,
   "metadata": {},
   "outputs": [],
   "source": [
    "from sklearn.preprocessing import StandardScaler"
   ]
  },
  {
   "cell_type": "code",
   "execution_count": 54,
   "metadata": {},
   "outputs": [],
   "source": [
    "scaler = StandardScaler()\n",
    "scaler.fit(Quanti)\n",
    "df_scaled = scaler.transform(Quanti.fillna(0))"
   ]
  },
  {
   "cell_type": "code",
   "execution_count": 55,
   "metadata": {},
   "outputs": [],
   "source": [
    "column_names = Quanti.columns[Quanti.columns != \"PrixR\"]\n",
    "X = df_scaled[:, Quanti.columns != \"PrixR\"]\n",
    "y = Quanti[\"PrixR\"].copy()\n",
    "y[pd.isnull(y)] = y.median()\n",
    "y = y.values.ravel()\n",
    "#y = df_scaled[:, df.columns == 'rep16_frac']"
   ]
  },
  {
   "cell_type": "code",
   "execution_count": 56,
   "metadata": {},
   "outputs": [],
   "source": [
    "from sklearn.linear_model import Lasso\n",
    "from sklearn.model_selection import train_test_split"
   ]
  },
  {
   "cell_type": "code",
   "execution_count": 57,
   "metadata": {},
   "outputs": [],
   "source": [
    "xtrain, xtest, ytrain, ytest = train_test_split(X, y, test_size=0.2)"
   ]
  },
  {
   "cell_type": "code",
   "execution_count": 58,
   "metadata": {},
   "outputs": [
    {
     "data": {
      "text/plain": [
       "0"
      ]
     },
     "execution_count": 58,
     "metadata": {},
     "output_type": "execute_result"
    }
   ],
   "source": [
    "pd.isnull(ytrain).sum()"
   ]
  },
  {
   "cell_type": "code",
   "execution_count": 59,
   "metadata": {},
   "outputs": [
    {
     "data": {
      "text/plain": [
       "Lasso()"
      ]
     },
     "execution_count": 59,
     "metadata": {},
     "output_type": "execute_result"
    }
   ],
   "source": [
    "lasso_ = Lasso(fit_intercept=True)\n",
    "lasso_.fit(xtrain, ytrain)"
   ]
  },
  {
   "cell_type": "code",
   "execution_count": 60,
   "metadata": {},
   "outputs": [
    {
     "data": {
      "text/plain": [
       "array([328043.8331437 ,   3875.57637312,   7018.83243508, -51068.60596032])"
      ]
     },
     "execution_count": 60,
     "metadata": {},
     "output_type": "execute_result"
    }
   ],
   "source": [
    "lasso_.coef_"
   ]
  },
  {
   "cell_type": "code",
   "execution_count": 61,
   "metadata": {},
   "outputs": [
    {
     "data": {
      "text/plain": [
       "Index(['SurfaceR', 'Nb_PiecesR', 'Nb_ChambresR', 'ParkingR'], dtype='object')"
      ]
     },
     "execution_count": 61,
     "metadata": {},
     "output_type": "execute_result"
    }
   ],
   "source": [
    "column_names[lasso_.coef_ != 0]"
   ]
  },
  {
   "cell_type": "code",
   "execution_count": null,
   "metadata": {},
   "outputs": [],
   "source": []
  },
  {
   "cell_type": "code",
   "execution_count": null,
   "metadata": {},
   "outputs": [],
   "source": []
  },
  {
   "cell_type": "code",
   "execution_count": null,
   "metadata": {},
   "outputs": [],
   "source": []
  },
  {
   "cell_type": "code",
   "execution_count": null,
   "metadata": {},
   "outputs": [],
   "source": []
  },
  {
   "cell_type": "code",
   "execution_count": null,
   "metadata": {},
   "outputs": [],
   "source": []
  }
 ],
 "metadata": {
  "kernelspec": {
   "display_name": "Python 3",
   "language": "python",
   "name": "python3"
  },
  "language_info": {
   "codemirror_mode": {
    "name": "ipython",
    "version": 3
   },
   "file_extension": ".py",
   "mimetype": "text/x-python",
   "name": "python",
   "nbconvert_exporter": "python",
   "pygments_lexer": "ipython3",
   "version": "3.6.5"
  }
 },
 "nbformat": 4,
 "nbformat_minor": 4
}
