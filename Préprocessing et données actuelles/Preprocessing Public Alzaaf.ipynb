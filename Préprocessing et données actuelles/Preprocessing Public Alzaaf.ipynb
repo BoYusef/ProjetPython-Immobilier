{
 "cells": [
  {
   "cell_type": "markdown",
   "metadata": {},
   "source": [
    "# Préprocessiong"
   ]
  },
  {
   "cell_type": "code",
   "execution_count": 6,
   "metadata": {},
   "outputs": [
    {
     "data": {
      "text/plain": [
       "'C:\\\\Users\\\\ALI ZATCHI Afzal\\\\Desktop\\\\PJET PYthon\\\\Donnees & Préprocessing Code'"
      ]
     },
     "execution_count": 6,
     "metadata": {},
     "output_type": "execute_result"
    }
   ],
   "source": [
    "os.getcwd()"
   ]
  },
  {
   "cell_type": "code",
   "execution_count": 3,
   "metadata": {},
   "outputs": [],
   "source": [
    "import pandas as pd\n",
    "import numpy as np\n",
    "import time\n",
    "import substring\n",
    "import sklearn\n",
    "import seaborn as sns\n",
    "import scipy as stats\n",
    "import os"
   ]
  },
  {
   "cell_type": "markdown",
   "metadata": {},
   "source": [
    "### Fusion des données"
   ]
  },
  {
   "cell_type": "code",
   "execution_count": 90,
   "metadata": {},
   "outputs": [],
   "source": [
    "####\n",
    "os.chdir(\"C:/Users/ALI ZATCHI Afzal/Desktop/PJET PYthon/Donnees & Préprocessing Code/base_for_preprocessing\")"
   ]
  },
  {
   "cell_type": "code",
   "execution_count": 198,
   "metadata": {},
   "outputs": [],
   "source": [
    "ES91_maison_0_604=pd.read_csv(\"ES91_maison_0_604.csv\") # ok\n",
    "ES91_maison_605_=pd.read_csv(\"ES91_maison_605_.csv\") # ok\n",
    "HS92_maison=pd.read_csv(\"HS92_maison.csv\") # ok \n",
    "PA75_maison=pd.read_csv(\"PA75_maison.csv\") # ok\n",
    "YV78_maison_749_1274=pd.read_csv(\"YV78_maison_749_1274.csv\") # ok\n",
    "YV78_maison_de_0_749=pd.read_csv(\"YV78_maison_de_0_749.csv\") # ok"
   ]
  },
  {
   "cell_type": "code",
   "execution_count": 199,
   "metadata": {},
   "outputs": [],
   "source": [
    "donnees_Ile_De_France = pd.concat([ES91_maison_0_604,\n",
    "                                   ES91_maison_605_,\n",
    "                                   HS92_maison,\n",
    "                                   PA75_maison,\n",
    "                                   YV78_maison_de_0_749,\n",
    "                                   YV78_maison_749_1274],ignore_index=True)"
   ]
  },
  {
   "cell_type": "code",
   "execution_count": 200,
   "metadata": {},
   "outputs": [],
   "source": [
    "#donnees_Ile_De_France.drop(donnees_Ile_De_France.index[[2698,2875,2919,3115,3116,3127]],inplace=True)\n",
    "data=donnees_Ile_De_France"
   ]
  },
  {
   "cell_type": "code",
   "execution_count": 201,
   "metadata": {
    "scrolled": true
   },
   "outputs": [
    {
     "data": {
      "text/html": [
       "<div>\n",
       "<style scoped>\n",
       "    .dataframe tbody tr th:only-of-type {\n",
       "        vertical-align: middle;\n",
       "    }\n",
       "\n",
       "    .dataframe tbody tr th {\n",
       "        vertical-align: top;\n",
       "    }\n",
       "\n",
       "    .dataframe thead th {\n",
       "        text-align: right;\n",
       "    }\n",
       "</style>\n",
       "<table border=\"1\" class=\"dataframe\">\n",
       "  <thead>\n",
       "    <tr style=\"text-align: right;\">\n",
       "      <th></th>\n",
       "      <th>Unnamed: 0</th>\n",
       "      <th>id_hourse</th>\n",
       "      <th>Addresse</th>\n",
       "      <th>Titre</th>\n",
       "      <th>Prix</th>\n",
       "      <th>Surface</th>\n",
       "      <th>Nb_piece</th>\n",
       "      <th>Nb_chambre</th>\n",
       "      <th>Parking</th>\n",
       "      <th>Jardin</th>\n",
       "      <th>Ascenseur</th>\n",
       "      <th>Terrasse</th>\n",
       "      <th>Garage</th>\n",
       "      <th>Prix_sur</th>\n",
       "      <th>Reference</th>\n",
       "      <th>Date_publication</th>\n",
       "      <th>Date_modification</th>\n",
       "      <th>Titre_description</th>\n",
       "      <th>Description</th>\n",
       "    </tr>\n",
       "  </thead>\n",
       "  <tbody>\n",
       "    <tr>\n",
       "      <th>0</th>\n",
       "      <td>0</td>\n",
       "      <td>ES91_0</td>\n",
       "      <td>Boussy-Saint-Antoine 91800</td>\n",
       "      <td>Achat maison 4 pièces 128 m², Boussy-Saint-Ant...</td>\n",
       "      <td>414 500 €</td>\n",
       "      <td>128 m²</td>\n",
       "      <td>4 pièces</td>\n",
       "      <td>3 chambres</td>\n",
       "      <td>2 places de parking</td>\n",
       "      <td>Jardin</td>\n",
       "      <td>NaN</td>\n",
       "      <td>NaN</td>\n",
       "      <td>NaN</td>\n",
       "      <td>3 238 €/m²</td>\n",
       "      <td>Réf. de l’annonce : 098906E1QEZB</td>\n",
       "      <td>Publiée le 12 oct. 2020</td>\n",
       "      <td>Modifiée le 6 nov. 2020</td>\n",
       "      <td>Descriptif de cette maison à vendre de 4 pièce...</td>\n",
       "      <td>Maison Boussy Saint Antoine 4 pièce(s) 128 m2,...</td>\n",
       "    </tr>\n",
       "    <tr>\n",
       "      <th>1</th>\n",
       "      <td>1</td>\n",
       "      <td>ES91_1</td>\n",
       "      <td>Chilly-Mazarin 91380 (Gravigny)</td>\n",
       "      <td>Achat maison 4 pièces 82 m², Chilly-Mazarin - ...</td>\n",
       "      <td>357 000 €</td>\n",
       "      <td>81,78 m²</td>\n",
       "      <td>4 pièces</td>\n",
       "      <td>3 chambres</td>\n",
       "      <td>3 places de parking</td>\n",
       "      <td>Jardin</td>\n",
       "      <td>NaN</td>\n",
       "      <td>1 terrasse</td>\n",
       "      <td>NaN</td>\n",
       "      <td>4 365 €/m²</td>\n",
       "      <td>Réf. de l’annonce : 3310</td>\n",
       "      <td>Publiée il y a plus de 2 mois</td>\n",
       "      <td>Modifiée le 12 oct. 2020</td>\n",
       "      <td>Descriptif de cette maison à vendre de 4 pièce...</td>\n",
       "      <td>Vente d'une maison F4 à CHILLY MAZARIN. MAISON...</td>\n",
       "    </tr>\n",
       "    <tr>\n",
       "      <th>2</th>\n",
       "      <td>2</td>\n",
       "      <td>ES91_2</td>\n",
       "      <td>Sainte-Geneviève-des-Bois 91700 (Georges Pitard)</td>\n",
       "      <td>Achat maison 6 pièces 163 m², Sainte-Geneviève...</td>\n",
       "      <td>450 000 €</td>\n",
       "      <td>163 m²</td>\n",
       "      <td>6 pièces</td>\n",
       "      <td>4 chambres</td>\n",
       "      <td>3 places de parking</td>\n",
       "      <td>Jardin</td>\n",
       "      <td>NaN</td>\n",
       "      <td>NaN</td>\n",
       "      <td>NaN</td>\n",
       "      <td>2 761 €/m²</td>\n",
       "      <td>Réf. de l’annonce : 09891902QHRQ</td>\n",
       "      <td>Publiée il y a plus de 2 mois</td>\n",
       "      <td>Modifiée le 27 nov. 2020</td>\n",
       "      <td>Descriptif de cette maison à vendre de 6 pièce...</td>\n",
       "      <td>Maison STE GENEVIEVE DES BOIS 6 pièce(s) 160 m...</td>\n",
       "    </tr>\n",
       "    <tr>\n",
       "      <th>3</th>\n",
       "      <td>3</td>\n",
       "      <td>ES91_3</td>\n",
       "      <td>Longjumeau 91160 (Gubanski - Sud)</td>\n",
       "      <td>Achat maison 7 pièces 154 m², Longjumeau - 467...</td>\n",
       "      <td>467 500 €</td>\n",
       "      <td>154 m²</td>\n",
       "      <td>7 pièces</td>\n",
       "      <td>4 chambres</td>\n",
       "      <td>8 places de parking</td>\n",
       "      <td>Jardin</td>\n",
       "      <td>NaN</td>\n",
       "      <td>NaN</td>\n",
       "      <td>NaN</td>\n",
       "      <td>3 036 €/m²</td>\n",
       "      <td>Réf. de l’annonce : 098023E1LUDE</td>\n",
       "      <td>Publiée il y a plus de 2 mois</td>\n",
       "      <td>Modifiée le 6 nov. 2020</td>\n",
       "      <td>Descriptif de cette maison à vendre de 7 pièce...</td>\n",
       "      <td>Maison Longjumeau 7 pièce(s) 154 m2 / 2 double...</td>\n",
       "    </tr>\n",
       "    <tr>\n",
       "      <th>4</th>\n",
       "      <td>4</td>\n",
       "      <td>ES91_4</td>\n",
       "      <td>Morsang-sur-Orge 91390 (Langevin)</td>\n",
       "      <td>Achat maison 7 pièces 155 m², Morsang-sur-Orge...</td>\n",
       "      <td>465 000 €</td>\n",
       "      <td>155 m²</td>\n",
       "      <td>7 pièces</td>\n",
       "      <td>5 chambres</td>\n",
       "      <td>6 places de parking</td>\n",
       "      <td>Jardin</td>\n",
       "      <td>NaN</td>\n",
       "      <td>NaN</td>\n",
       "      <td>NaN</td>\n",
       "      <td>3 000 €/m²</td>\n",
       "      <td>Réf. de l’annonce : 098061E1LN0N</td>\n",
       "      <td>Publiée il y a plus de 2 mois</td>\n",
       "      <td>Modifiée le 1 déc. 2020</td>\n",
       "      <td>Descriptif de cette maison à vendre de 7 pièce...</td>\n",
       "      <td>Maison Morsang Sur Orge. EXCLUSIVITÉ - MORSANG...</td>\n",
       "    </tr>\n",
       "    <tr>\n",
       "      <th>...</th>\n",
       "      <td>...</td>\n",
       "      <td>...</td>\n",
       "      <td>...</td>\n",
       "      <td>...</td>\n",
       "      <td>...</td>\n",
       "      <td>...</td>\n",
       "      <td>...</td>\n",
       "      <td>...</td>\n",
       "      <td>...</td>\n",
       "      <td>...</td>\n",
       "      <td>...</td>\n",
       "      <td>...</td>\n",
       "      <td>...</td>\n",
       "      <td>...</td>\n",
       "      <td>...</td>\n",
       "      <td>...</td>\n",
       "      <td>...</td>\n",
       "      <td>...</td>\n",
       "      <td>...</td>\n",
       "    </tr>\n",
       "    <tr>\n",
       "      <th>3958</th>\n",
       "      <td>515</td>\n",
       "      <td>YV78_1269</td>\n",
       "      <td>Bouafle 78410</td>\n",
       "      <td>Achat maison 7 pièces 245 m², Bouafle - 625 000 €</td>\n",
       "      <td>625 000 €</td>\n",
       "      <td>245 m²</td>\n",
       "      <td>7 pièces</td>\n",
       "      <td>4 chambres</td>\n",
       "      <td>2 places de parking</td>\n",
       "      <td>Jardin</td>\n",
       "      <td>NaN</td>\n",
       "      <td>1 terrasse</td>\n",
       "      <td>NaN</td>\n",
       "      <td>2 551 €/m²</td>\n",
       "      <td>NaN</td>\n",
       "      <td>Publiée il y a plus de 2 mois</td>\n",
       "      <td>Réf. de l’annonce : 577</td>\n",
       "      <td>Descriptif de cette maison à vendre de 7 pièce...</td>\n",
       "      <td>Maison 144m² + dépendance 101m². Dans la ville...</td>\n",
       "    </tr>\n",
       "    <tr>\n",
       "      <th>3959</th>\n",
       "      <td>516</td>\n",
       "      <td>YV78_1270</td>\n",
       "      <td>Porcheville 78440</td>\n",
       "      <td>Achat maison 6 pièces 145 m², Porcheville - 28...</td>\n",
       "      <td>280 000 €</td>\n",
       "      <td>145 m²</td>\n",
       "      <td>6 pièces</td>\n",
       "      <td>4 chambres</td>\n",
       "      <td>2 places de parking</td>\n",
       "      <td>Jardin</td>\n",
       "      <td>NaN</td>\n",
       "      <td>NaN</td>\n",
       "      <td>NaN</td>\n",
       "      <td>1 862 €/m²</td>\n",
       "      <td>Réf. de l’annonce : 007055E1NFTG</td>\n",
       "      <td>Publiée il y a plus de 2 mois</td>\n",
       "      <td>Modifiée le 14 nov. 2020</td>\n",
       "      <td>Descriptif de cette maison à vendre de 6 pièce...</td>\n",
       "      <td>Maison familiale Porcheville 7 pièce(s) 145 m2...</td>\n",
       "    </tr>\n",
       "    <tr>\n",
       "      <th>3960</th>\n",
       "      <td>517</td>\n",
       "      <td>YV78_1271</td>\n",
       "      <td>Sartrouville 78500 (Le Val Notre-Dame)</td>\n",
       "      <td>Achat maison 5 pièces 160 m², Sartrouville - 5...</td>\n",
       "      <td>566 000 €</td>\n",
       "      <td>160 m²</td>\n",
       "      <td>5 pièces</td>\n",
       "      <td>3 chambres</td>\n",
       "      <td>2 places de parking</td>\n",
       "      <td>Jardin</td>\n",
       "      <td>NaN</td>\n",
       "      <td>NaN</td>\n",
       "      <td>Garage</td>\n",
       "      <td>3 538 €/m²</td>\n",
       "      <td>Réf. de l’annonce : 749571019-4</td>\n",
       "      <td>Publiée il y a plus de 2 mois</td>\n",
       "      <td>Modifiée le 2 déc. 2020</td>\n",
       "      <td>Descriptif de cette maison à vendre de 5 pièce...</td>\n",
       "      <td>Pavillon Beaux Volumes. Sartrouville, dans un ...</td>\n",
       "    </tr>\n",
       "    <tr>\n",
       "      <th>3961</th>\n",
       "      <td>518</td>\n",
       "      <td>YV78_1272</td>\n",
       "      <td>Verneuil-sur-Seine 78480 (Les Clairières - Les...</td>\n",
       "      <td>Achat maison 7 pièces 145 m², Verneuil-sur-Sei...</td>\n",
       "      <td>484 000 €</td>\n",
       "      <td>145 m²</td>\n",
       "      <td>7 pièces</td>\n",
       "      <td>5 chambres</td>\n",
       "      <td>2 parkings extérieurs</td>\n",
       "      <td>Jardin de 801 m²</td>\n",
       "      <td>NaN</td>\n",
       "      <td>NaN</td>\n",
       "      <td>2 garages</td>\n",
       "      <td>3 172 €/m²</td>\n",
       "      <td>Réf. de l’annonce : 31490007</td>\n",
       "      <td>Publiée il y a plus de 2 mois</td>\n",
       "      <td>Modifiée le 21 oct. 2020</td>\n",
       "      <td>Descriptif de cette maison à vendre de 7 pièce...</td>\n",
       "      <td>Une maison des années 1970 située dans un cadr...</td>\n",
       "    </tr>\n",
       "    <tr>\n",
       "      <th>3962</th>\n",
       "      <td>519</td>\n",
       "      <td>YV78_1273</td>\n",
       "      <td>Bougival 78380</td>\n",
       "      <td>Achat maison 8 pièces 200 m², Bougival - 905 0...</td>\n",
       "      <td>905 000 €</td>\n",
       "      <td>200 m²</td>\n",
       "      <td>8 pièces</td>\n",
       "      <td>5 chambres</td>\n",
       "      <td>2 places de parking</td>\n",
       "      <td>Jardin</td>\n",
       "      <td>NaN</td>\n",
       "      <td>NaN</td>\n",
       "      <td>NaN</td>\n",
       "      <td>4 350 €/m²</td>\n",
       "      <td>Réf. de l’annonce : 17203</td>\n",
       "      <td>Publiée il y a plus de 2 mois</td>\n",
       "      <td>Modifiée le 7 nov. 2020</td>\n",
       "      <td>Descriptif de cette maison à vendre de 8 pièce...</td>\n",
       "      <td>MAISON BOURGEOISE. ILE des IMPRESSIONNISTES. A...</td>\n",
       "    </tr>\n",
       "  </tbody>\n",
       "</table>\n",
       "<p>3963 rows × 19 columns</p>\n",
       "</div>"
      ],
      "text/plain": [
       "      Unnamed: 0  id_hourse  \\\n",
       "0              0     ES91_0   \n",
       "1              1     ES91_1   \n",
       "2              2     ES91_2   \n",
       "3              3     ES91_3   \n",
       "4              4     ES91_4   \n",
       "...          ...        ...   \n",
       "3958         515  YV78_1269   \n",
       "3959         516  YV78_1270   \n",
       "3960         517  YV78_1271   \n",
       "3961         518  YV78_1272   \n",
       "3962         519  YV78_1273   \n",
       "\n",
       "                                               Addresse  \\\n",
       "0                            Boussy-Saint-Antoine 91800   \n",
       "1                       Chilly-Mazarin 91380 (Gravigny)   \n",
       "2      Sainte-Geneviève-des-Bois 91700 (Georges Pitard)   \n",
       "3                     Longjumeau 91160 (Gubanski - Sud)   \n",
       "4                     Morsang-sur-Orge 91390 (Langevin)   \n",
       "...                                                 ...   \n",
       "3958                                      Bouafle 78410   \n",
       "3959                                  Porcheville 78440   \n",
       "3960             Sartrouville 78500 (Le Val Notre-Dame)   \n",
       "3961  Verneuil-sur-Seine 78480 (Les Clairières - Les...   \n",
       "3962                                     Bougival 78380   \n",
       "\n",
       "                                                  Titre       Prix   Surface  \\\n",
       "0     Achat maison 4 pièces 128 m², Boussy-Saint-Ant...  414 500 €    128 m²   \n",
       "1     Achat maison 4 pièces 82 m², Chilly-Mazarin - ...  357 000 €  81,78 m²   \n",
       "2     Achat maison 6 pièces 163 m², Sainte-Geneviève...  450 000 €    163 m²   \n",
       "3     Achat maison 7 pièces 154 m², Longjumeau - 467...  467 500 €    154 m²   \n",
       "4     Achat maison 7 pièces 155 m², Morsang-sur-Orge...  465 000 €    155 m²   \n",
       "...                                                 ...        ...       ...   \n",
       "3958  Achat maison 7 pièces 245 m², Bouafle - 625 000 €  625 000 €    245 m²   \n",
       "3959  Achat maison 6 pièces 145 m², Porcheville - 28...  280 000 €    145 m²   \n",
       "3960  Achat maison 5 pièces 160 m², Sartrouville - 5...  566 000 €    160 m²   \n",
       "3961  Achat maison 7 pièces 145 m², Verneuil-sur-Sei...  484 000 €    145 m²   \n",
       "3962  Achat maison 8 pièces 200 m², Bougival - 905 0...  905 000 €    200 m²   \n",
       "\n",
       "      Nb_piece  Nb_chambre                Parking            Jardin  \\\n",
       "0     4 pièces  3 chambres    2 places de parking            Jardin   \n",
       "1     4 pièces  3 chambres    3 places de parking            Jardin   \n",
       "2     6 pièces  4 chambres    3 places de parking            Jardin   \n",
       "3     7 pièces  4 chambres    8 places de parking            Jardin   \n",
       "4     7 pièces  5 chambres    6 places de parking            Jardin   \n",
       "...        ...         ...                    ...               ...   \n",
       "3958  7 pièces  4 chambres    2 places de parking            Jardin   \n",
       "3959  6 pièces  4 chambres    2 places de parking            Jardin   \n",
       "3960  5 pièces  3 chambres    2 places de parking            Jardin   \n",
       "3961  7 pièces  5 chambres  2 parkings extérieurs  Jardin de 801 m²   \n",
       "3962  8 pièces  5 chambres    2 places de parking            Jardin   \n",
       "\n",
       "      Ascenseur    Terrasse     Garage    Prix_sur  \\\n",
       "0           NaN         NaN        NaN  3 238 €/m²   \n",
       "1           NaN  1 terrasse        NaN  4 365 €/m²   \n",
       "2           NaN         NaN        NaN  2 761 €/m²   \n",
       "3           NaN         NaN        NaN  3 036 €/m²   \n",
       "4           NaN         NaN        NaN  3 000 €/m²   \n",
       "...         ...         ...        ...         ...   \n",
       "3958        NaN  1 terrasse        NaN  2 551 €/m²   \n",
       "3959        NaN         NaN        NaN  1 862 €/m²   \n",
       "3960        NaN         NaN     Garage  3 538 €/m²   \n",
       "3961        NaN         NaN  2 garages  3 172 €/m²   \n",
       "3962        NaN         NaN        NaN  4 350 €/m²   \n",
       "\n",
       "                             Reference               Date_publication  \\\n",
       "0     Réf. de l’annonce : 098906E1QEZB        Publiée le 12 oct. 2020   \n",
       "1             Réf. de l’annonce : 3310  Publiée il y a plus de 2 mois   \n",
       "2     Réf. de l’annonce : 09891902QHRQ  Publiée il y a plus de 2 mois   \n",
       "3     Réf. de l’annonce : 098023E1LUDE  Publiée il y a plus de 2 mois   \n",
       "4     Réf. de l’annonce : 098061E1LN0N  Publiée il y a plus de 2 mois   \n",
       "...                                ...                            ...   \n",
       "3958                               NaN  Publiée il y a plus de 2 mois   \n",
       "3959  Réf. de l’annonce : 007055E1NFTG  Publiée il y a plus de 2 mois   \n",
       "3960   Réf. de l’annonce : 749571019-4  Publiée il y a plus de 2 mois   \n",
       "3961      Réf. de l’annonce : 31490007  Publiée il y a plus de 2 mois   \n",
       "3962         Réf. de l’annonce : 17203  Publiée il y a plus de 2 mois   \n",
       "\n",
       "             Date_modification  \\\n",
       "0      Modifiée le 6 nov. 2020   \n",
       "1     Modifiée le 12 oct. 2020   \n",
       "2     Modifiée le 27 nov. 2020   \n",
       "3      Modifiée le 6 nov. 2020   \n",
       "4      Modifiée le 1 déc. 2020   \n",
       "...                        ...   \n",
       "3958   Réf. de l’annonce : 577   \n",
       "3959  Modifiée le 14 nov. 2020   \n",
       "3960   Modifiée le 2 déc. 2020   \n",
       "3961  Modifiée le 21 oct. 2020   \n",
       "3962   Modifiée le 7 nov. 2020   \n",
       "\n",
       "                                      Titre_description  \\\n",
       "0     Descriptif de cette maison à vendre de 4 pièce...   \n",
       "1     Descriptif de cette maison à vendre de 4 pièce...   \n",
       "2     Descriptif de cette maison à vendre de 6 pièce...   \n",
       "3     Descriptif de cette maison à vendre de 7 pièce...   \n",
       "4     Descriptif de cette maison à vendre de 7 pièce...   \n",
       "...                                                 ...   \n",
       "3958  Descriptif de cette maison à vendre de 7 pièce...   \n",
       "3959  Descriptif de cette maison à vendre de 6 pièce...   \n",
       "3960  Descriptif de cette maison à vendre de 5 pièce...   \n",
       "3961  Descriptif de cette maison à vendre de 7 pièce...   \n",
       "3962  Descriptif de cette maison à vendre de 8 pièce...   \n",
       "\n",
       "                                            Description  \n",
       "0     Maison Boussy Saint Antoine 4 pièce(s) 128 m2,...  \n",
       "1     Vente d'une maison F4 à CHILLY MAZARIN. MAISON...  \n",
       "2     Maison STE GENEVIEVE DES BOIS 6 pièce(s) 160 m...  \n",
       "3     Maison Longjumeau 7 pièce(s) 154 m2 / 2 double...  \n",
       "4     Maison Morsang Sur Orge. EXCLUSIVITÉ - MORSANG...  \n",
       "...                                                 ...  \n",
       "3958  Maison 144m² + dépendance 101m². Dans la ville...  \n",
       "3959  Maison familiale Porcheville 7 pièce(s) 145 m2...  \n",
       "3960  Pavillon Beaux Volumes. Sartrouville, dans un ...  \n",
       "3961  Une maison des années 1970 située dans un cadr...  \n",
       "3962  MAISON BOURGEOISE. ILE des IMPRESSIONNISTES. A...  \n",
       "\n",
       "[3963 rows x 19 columns]"
      ]
     },
     "execution_count": 201,
     "metadata": {},
     "output_type": "execute_result"
    }
   ],
   "source": [
    "data"
   ]
  },
  {
   "cell_type": "markdown",
   "metadata": {},
   "source": [
    "### Fonction de Nettoyage"
   ]
  },
  {
   "cell_type": "code",
   "execution_count": 202,
   "metadata": {},
   "outputs": [],
   "source": [
    "def Clean(data):\n",
    "    # Copie de la data\n",
    "    donnee=data\n",
    "    \n",
    "    donnee.drop(columns='Unnamed: 0',inplace=True)\n",
    "    # Prix\n",
    "    donnee[\"PrixR\"]=donnee.Prix.str.replace(\"€\",\"\").str.replace(\" \",\"\")\n",
    "    donnee[\"PrixR\"]=donnee['PrixR'].astype(float)\n",
    "\n",
    "    ## Surface\n",
    "    donnee['SurfaceR']=donnee.Surface.str.replace(\"m²\",\"\").str.replace(\",\",\".\")\n",
    "    donnee['SurfaceR']=donnee.SurfaceR.astype(float)\n",
    "\n",
    "    ## Pieces\n",
    "    donnee['Nb_PiecesR']=donnee.Nb_piece.str.replace(\"pièce\",\"\").str.replace(\"s\",\"\").str.replace(\" \",\"\")\n",
    "    donnee[\"Nb_PiecesR\"]=donnee.Nb_PiecesR.astype(float)\n",
    "\n",
    "    ### Chambres\n",
    "    donnee['Nb_ChambresR']=donnee.Nb_chambre.str.replace(\"chambre\",\"\").str.replace(\"s\",\"\").str.replace(\" \",\"\")\n",
    "    donnee[\"Nb_ChambresR\"]=donnee.Nb_ChambresR.astype(float)\n",
    "\n",
    "    ### Adresse  et  Zone: Emplacement( Ville, Commune, Je ne sais pas trop)\n",
    "\n",
    "    ## Exemple Asnières-sur-Seine 92600 (Coubertin)\n",
    "    #   DepartR= 92600    ZoneR = \"Asnières-sur-Seine\" \n",
    "    #   EmplacementR = \"(Coubertin)\"\n",
    "\n",
    "    # Departement\n",
    "    dep=[''.join([i for i in j if i.isdigit()]) for j in donnee.Addresse]\n",
    "    dep=[int(i) for i in dep]\n",
    "    donnee[\"DepartR\"]=dep\n",
    "    \n",
    "    depl=[''.join([i for i in j if i.isdigit()]) for j in data.Addresse]\n",
    "    depl=[i[:2] for i in depl]\n",
    "    donnee[\"Dep\"]=depl\n",
    "\n",
    "    # ZoneR\n",
    "    secteur=[''.join([i for i in j if not i.isdigit()]) for j in donnee.Addresse]\n",
    "    donnee[\"ZoneR\"]=secteur\n",
    "\n",
    "\n",
    "    ##  Emplacement exact( Précisé entre Parenthèses)\n",
    "    donnee[\"EmplacementR\"]=[substring.substringByChar(i, startChar=\"(\", endChar=\")\").replace('(','').replace(')','') if i.find('(')>=0 else i for i in donnee.ZoneR]\n",
    "\n",
    "    ### Parking\n",
    "    park=donnee.Parking.fillna('')\n",
    "    park.replace('',np.nan)\n",
    "    park=[''.join([i for i in j if i.isdigit()]) for j in park]\n",
    "    park=[np.nan if i=='' else float(i) for i in park]\n",
    "    donnee[\"ParkingR\"]=park\n",
    "\n",
    "    ## Les Nan pour les parking représentent les maisons sans parking( je pense)\n",
    "    donnee['ParkingR']=donnee['ParkingR'].fillna(0)\n",
    "\n",
    "    ## Jardin \n",
    "    donnee['JardinR']=~donnee.Jardin.isna()\n",
    "\n",
    "    ### Ascenseur : Inutile visuellement Ne contient que les Na/ En meme tps\n",
    "    # Les maisons n'ont pas d'ascenseur\n",
    "    return donnee"
   ]
  },
  {
   "cell_type": "code",
   "execution_count": 203,
   "metadata": {},
   "outputs": [],
   "source": [
    "data=Clean(data)"
   ]
  },
  {
   "cell_type": "code",
   "execution_count": 204,
   "metadata": {
    "scrolled": true
   },
   "outputs": [
    {
     "data": {
      "text/html": [
       "<div>\n",
       "<style scoped>\n",
       "    .dataframe tbody tr th:only-of-type {\n",
       "        vertical-align: middle;\n",
       "    }\n",
       "\n",
       "    .dataframe tbody tr th {\n",
       "        vertical-align: top;\n",
       "    }\n",
       "\n",
       "    .dataframe thead th {\n",
       "        text-align: right;\n",
       "    }\n",
       "</style>\n",
       "<table border=\"1\" class=\"dataframe\">\n",
       "  <thead>\n",
       "    <tr style=\"text-align: right;\">\n",
       "      <th></th>\n",
       "      <th>id_hourse</th>\n",
       "      <th>Addresse</th>\n",
       "      <th>Titre</th>\n",
       "      <th>Prix</th>\n",
       "      <th>Surface</th>\n",
       "      <th>Nb_piece</th>\n",
       "      <th>Nb_chambre</th>\n",
       "      <th>Parking</th>\n",
       "      <th>Jardin</th>\n",
       "      <th>Ascenseur</th>\n",
       "      <th>...</th>\n",
       "      <th>PrixR</th>\n",
       "      <th>SurfaceR</th>\n",
       "      <th>Nb_PiecesR</th>\n",
       "      <th>Nb_ChambresR</th>\n",
       "      <th>DepartR</th>\n",
       "      <th>Dep</th>\n",
       "      <th>ZoneR</th>\n",
       "      <th>EmplacementR</th>\n",
       "      <th>ParkingR</th>\n",
       "      <th>JardinR</th>\n",
       "    </tr>\n",
       "  </thead>\n",
       "  <tbody>\n",
       "    <tr>\n",
       "      <th>0</th>\n",
       "      <td>ES91_0</td>\n",
       "      <td>Boussy-Saint-Antoine 91800</td>\n",
       "      <td>Achat maison 4 pièces 128 m², Boussy-Saint-Ant...</td>\n",
       "      <td>414 500 €</td>\n",
       "      <td>128 m²</td>\n",
       "      <td>4 pièces</td>\n",
       "      <td>3 chambres</td>\n",
       "      <td>2 places de parking</td>\n",
       "      <td>Jardin</td>\n",
       "      <td>NaN</td>\n",
       "      <td>...</td>\n",
       "      <td>414500.0</td>\n",
       "      <td>128.00</td>\n",
       "      <td>4.0</td>\n",
       "      <td>3.0</td>\n",
       "      <td>91800</td>\n",
       "      <td>91</td>\n",
       "      <td>Boussy-Saint-Antoine</td>\n",
       "      <td>Boussy-Saint-Antoine</td>\n",
       "      <td>2.0</td>\n",
       "      <td>True</td>\n",
       "    </tr>\n",
       "    <tr>\n",
       "      <th>1</th>\n",
       "      <td>ES91_1</td>\n",
       "      <td>Chilly-Mazarin 91380 (Gravigny)</td>\n",
       "      <td>Achat maison 4 pièces 82 m², Chilly-Mazarin - ...</td>\n",
       "      <td>357 000 €</td>\n",
       "      <td>81,78 m²</td>\n",
       "      <td>4 pièces</td>\n",
       "      <td>3 chambres</td>\n",
       "      <td>3 places de parking</td>\n",
       "      <td>Jardin</td>\n",
       "      <td>NaN</td>\n",
       "      <td>...</td>\n",
       "      <td>357000.0</td>\n",
       "      <td>81.78</td>\n",
       "      <td>4.0</td>\n",
       "      <td>3.0</td>\n",
       "      <td>91380</td>\n",
       "      <td>91</td>\n",
       "      <td>Chilly-Mazarin  (Gravigny)</td>\n",
       "      <td>Gravigny</td>\n",
       "      <td>3.0</td>\n",
       "      <td>True</td>\n",
       "    </tr>\n",
       "    <tr>\n",
       "      <th>2</th>\n",
       "      <td>ES91_2</td>\n",
       "      <td>Sainte-Geneviève-des-Bois 91700 (Georges Pitard)</td>\n",
       "      <td>Achat maison 6 pièces 163 m², Sainte-Geneviève...</td>\n",
       "      <td>450 000 €</td>\n",
       "      <td>163 m²</td>\n",
       "      <td>6 pièces</td>\n",
       "      <td>4 chambres</td>\n",
       "      <td>3 places de parking</td>\n",
       "      <td>Jardin</td>\n",
       "      <td>NaN</td>\n",
       "      <td>...</td>\n",
       "      <td>450000.0</td>\n",
       "      <td>163.00</td>\n",
       "      <td>6.0</td>\n",
       "      <td>4.0</td>\n",
       "      <td>91700</td>\n",
       "      <td>91</td>\n",
       "      <td>Sainte-Geneviève-des-Bois  (Georges Pitard)</td>\n",
       "      <td>Georges Pitard</td>\n",
       "      <td>3.0</td>\n",
       "      <td>True</td>\n",
       "    </tr>\n",
       "    <tr>\n",
       "      <th>3</th>\n",
       "      <td>ES91_3</td>\n",
       "      <td>Longjumeau 91160 (Gubanski - Sud)</td>\n",
       "      <td>Achat maison 7 pièces 154 m², Longjumeau - 467...</td>\n",
       "      <td>467 500 €</td>\n",
       "      <td>154 m²</td>\n",
       "      <td>7 pièces</td>\n",
       "      <td>4 chambres</td>\n",
       "      <td>8 places de parking</td>\n",
       "      <td>Jardin</td>\n",
       "      <td>NaN</td>\n",
       "      <td>...</td>\n",
       "      <td>467500.0</td>\n",
       "      <td>154.00</td>\n",
       "      <td>7.0</td>\n",
       "      <td>4.0</td>\n",
       "      <td>91160</td>\n",
       "      <td>91</td>\n",
       "      <td>Longjumeau  (Gubanski - Sud)</td>\n",
       "      <td>Gubanski - Sud</td>\n",
       "      <td>8.0</td>\n",
       "      <td>True</td>\n",
       "    </tr>\n",
       "    <tr>\n",
       "      <th>4</th>\n",
       "      <td>ES91_4</td>\n",
       "      <td>Morsang-sur-Orge 91390 (Langevin)</td>\n",
       "      <td>Achat maison 7 pièces 155 m², Morsang-sur-Orge...</td>\n",
       "      <td>465 000 €</td>\n",
       "      <td>155 m²</td>\n",
       "      <td>7 pièces</td>\n",
       "      <td>5 chambres</td>\n",
       "      <td>6 places de parking</td>\n",
       "      <td>Jardin</td>\n",
       "      <td>NaN</td>\n",
       "      <td>...</td>\n",
       "      <td>465000.0</td>\n",
       "      <td>155.00</td>\n",
       "      <td>7.0</td>\n",
       "      <td>5.0</td>\n",
       "      <td>91390</td>\n",
       "      <td>91</td>\n",
       "      <td>Morsang-sur-Orge  (Langevin)</td>\n",
       "      <td>Langevin</td>\n",
       "      <td>6.0</td>\n",
       "      <td>True</td>\n",
       "    </tr>\n",
       "    <tr>\n",
       "      <th>...</th>\n",
       "      <td>...</td>\n",
       "      <td>...</td>\n",
       "      <td>...</td>\n",
       "      <td>...</td>\n",
       "      <td>...</td>\n",
       "      <td>...</td>\n",
       "      <td>...</td>\n",
       "      <td>...</td>\n",
       "      <td>...</td>\n",
       "      <td>...</td>\n",
       "      <td>...</td>\n",
       "      <td>...</td>\n",
       "      <td>...</td>\n",
       "      <td>...</td>\n",
       "      <td>...</td>\n",
       "      <td>...</td>\n",
       "      <td>...</td>\n",
       "      <td>...</td>\n",
       "      <td>...</td>\n",
       "      <td>...</td>\n",
       "      <td>...</td>\n",
       "    </tr>\n",
       "    <tr>\n",
       "      <th>3958</th>\n",
       "      <td>YV78_1269</td>\n",
       "      <td>Bouafle 78410</td>\n",
       "      <td>Achat maison 7 pièces 245 m², Bouafle - 625 000 €</td>\n",
       "      <td>625 000 €</td>\n",
       "      <td>245 m²</td>\n",
       "      <td>7 pièces</td>\n",
       "      <td>4 chambres</td>\n",
       "      <td>2 places de parking</td>\n",
       "      <td>Jardin</td>\n",
       "      <td>NaN</td>\n",
       "      <td>...</td>\n",
       "      <td>625000.0</td>\n",
       "      <td>245.00</td>\n",
       "      <td>7.0</td>\n",
       "      <td>4.0</td>\n",
       "      <td>78410</td>\n",
       "      <td>78</td>\n",
       "      <td>Bouafle</td>\n",
       "      <td>Bouafle</td>\n",
       "      <td>2.0</td>\n",
       "      <td>True</td>\n",
       "    </tr>\n",
       "    <tr>\n",
       "      <th>3959</th>\n",
       "      <td>YV78_1270</td>\n",
       "      <td>Porcheville 78440</td>\n",
       "      <td>Achat maison 6 pièces 145 m², Porcheville - 28...</td>\n",
       "      <td>280 000 €</td>\n",
       "      <td>145 m²</td>\n",
       "      <td>6 pièces</td>\n",
       "      <td>4 chambres</td>\n",
       "      <td>2 places de parking</td>\n",
       "      <td>Jardin</td>\n",
       "      <td>NaN</td>\n",
       "      <td>...</td>\n",
       "      <td>280000.0</td>\n",
       "      <td>145.00</td>\n",
       "      <td>6.0</td>\n",
       "      <td>4.0</td>\n",
       "      <td>78440</td>\n",
       "      <td>78</td>\n",
       "      <td>Porcheville</td>\n",
       "      <td>Porcheville</td>\n",
       "      <td>2.0</td>\n",
       "      <td>True</td>\n",
       "    </tr>\n",
       "    <tr>\n",
       "      <th>3960</th>\n",
       "      <td>YV78_1271</td>\n",
       "      <td>Sartrouville 78500 (Le Val Notre-Dame)</td>\n",
       "      <td>Achat maison 5 pièces 160 m², Sartrouville - 5...</td>\n",
       "      <td>566 000 €</td>\n",
       "      <td>160 m²</td>\n",
       "      <td>5 pièces</td>\n",
       "      <td>3 chambres</td>\n",
       "      <td>2 places de parking</td>\n",
       "      <td>Jardin</td>\n",
       "      <td>NaN</td>\n",
       "      <td>...</td>\n",
       "      <td>566000.0</td>\n",
       "      <td>160.00</td>\n",
       "      <td>5.0</td>\n",
       "      <td>3.0</td>\n",
       "      <td>78500</td>\n",
       "      <td>78</td>\n",
       "      <td>Sartrouville  (Le Val Notre-Dame)</td>\n",
       "      <td>Le Val Notre-Dame</td>\n",
       "      <td>2.0</td>\n",
       "      <td>True</td>\n",
       "    </tr>\n",
       "    <tr>\n",
       "      <th>3961</th>\n",
       "      <td>YV78_1272</td>\n",
       "      <td>Verneuil-sur-Seine 78480 (Les Clairières - Les...</td>\n",
       "      <td>Achat maison 7 pièces 145 m², Verneuil-sur-Sei...</td>\n",
       "      <td>484 000 €</td>\n",
       "      <td>145 m²</td>\n",
       "      <td>7 pièces</td>\n",
       "      <td>5 chambres</td>\n",
       "      <td>2 parkings extérieurs</td>\n",
       "      <td>Jardin de 801 m²</td>\n",
       "      <td>NaN</td>\n",
       "      <td>...</td>\n",
       "      <td>484000.0</td>\n",
       "      <td>145.00</td>\n",
       "      <td>7.0</td>\n",
       "      <td>5.0</td>\n",
       "      <td>78480</td>\n",
       "      <td>78</td>\n",
       "      <td>Verneuil-sur-Seine  (Les Clairières - Les Rena...</td>\n",
       "      <td>Les Clairières - Les Renardières</td>\n",
       "      <td>2.0</td>\n",
       "      <td>True</td>\n",
       "    </tr>\n",
       "    <tr>\n",
       "      <th>3962</th>\n",
       "      <td>YV78_1273</td>\n",
       "      <td>Bougival 78380</td>\n",
       "      <td>Achat maison 8 pièces 200 m², Bougival - 905 0...</td>\n",
       "      <td>905 000 €</td>\n",
       "      <td>200 m²</td>\n",
       "      <td>8 pièces</td>\n",
       "      <td>5 chambres</td>\n",
       "      <td>2 places de parking</td>\n",
       "      <td>Jardin</td>\n",
       "      <td>NaN</td>\n",
       "      <td>...</td>\n",
       "      <td>905000.0</td>\n",
       "      <td>200.00</td>\n",
       "      <td>8.0</td>\n",
       "      <td>5.0</td>\n",
       "      <td>78380</td>\n",
       "      <td>78</td>\n",
       "      <td>Bougival</td>\n",
       "      <td>Bougival</td>\n",
       "      <td>2.0</td>\n",
       "      <td>True</td>\n",
       "    </tr>\n",
       "  </tbody>\n",
       "</table>\n",
       "<p>3963 rows × 28 columns</p>\n",
       "</div>"
      ],
      "text/plain": [
       "      id_hourse                                           Addresse  \\\n",
       "0        ES91_0                         Boussy-Saint-Antoine 91800   \n",
       "1        ES91_1                    Chilly-Mazarin 91380 (Gravigny)   \n",
       "2        ES91_2   Sainte-Geneviève-des-Bois 91700 (Georges Pitard)   \n",
       "3        ES91_3                  Longjumeau 91160 (Gubanski - Sud)   \n",
       "4        ES91_4                  Morsang-sur-Orge 91390 (Langevin)   \n",
       "...         ...                                                ...   \n",
       "3958  YV78_1269                                      Bouafle 78410   \n",
       "3959  YV78_1270                                  Porcheville 78440   \n",
       "3960  YV78_1271             Sartrouville 78500 (Le Val Notre-Dame)   \n",
       "3961  YV78_1272  Verneuil-sur-Seine 78480 (Les Clairières - Les...   \n",
       "3962  YV78_1273                                     Bougival 78380   \n",
       "\n",
       "                                                  Titre       Prix   Surface  \\\n",
       "0     Achat maison 4 pièces 128 m², Boussy-Saint-Ant...  414 500 €    128 m²   \n",
       "1     Achat maison 4 pièces 82 m², Chilly-Mazarin - ...  357 000 €  81,78 m²   \n",
       "2     Achat maison 6 pièces 163 m², Sainte-Geneviève...  450 000 €    163 m²   \n",
       "3     Achat maison 7 pièces 154 m², Longjumeau - 467...  467 500 €    154 m²   \n",
       "4     Achat maison 7 pièces 155 m², Morsang-sur-Orge...  465 000 €    155 m²   \n",
       "...                                                 ...        ...       ...   \n",
       "3958  Achat maison 7 pièces 245 m², Bouafle - 625 000 €  625 000 €    245 m²   \n",
       "3959  Achat maison 6 pièces 145 m², Porcheville - 28...  280 000 €    145 m²   \n",
       "3960  Achat maison 5 pièces 160 m², Sartrouville - 5...  566 000 €    160 m²   \n",
       "3961  Achat maison 7 pièces 145 m², Verneuil-sur-Sei...  484 000 €    145 m²   \n",
       "3962  Achat maison 8 pièces 200 m², Bougival - 905 0...  905 000 €    200 m²   \n",
       "\n",
       "      Nb_piece  Nb_chambre                Parking            Jardin  \\\n",
       "0     4 pièces  3 chambres    2 places de parking            Jardin   \n",
       "1     4 pièces  3 chambres    3 places de parking            Jardin   \n",
       "2     6 pièces  4 chambres    3 places de parking            Jardin   \n",
       "3     7 pièces  4 chambres    8 places de parking            Jardin   \n",
       "4     7 pièces  5 chambres    6 places de parking            Jardin   \n",
       "...        ...         ...                    ...               ...   \n",
       "3958  7 pièces  4 chambres    2 places de parking            Jardin   \n",
       "3959  6 pièces  4 chambres    2 places de parking            Jardin   \n",
       "3960  5 pièces  3 chambres    2 places de parking            Jardin   \n",
       "3961  7 pièces  5 chambres  2 parkings extérieurs  Jardin de 801 m²   \n",
       "3962  8 pièces  5 chambres    2 places de parking            Jardin   \n",
       "\n",
       "      Ascenseur  ...     PrixR SurfaceR Nb_PiecesR Nb_ChambresR DepartR Dep  \\\n",
       "0           NaN  ...  414500.0   128.00        4.0          3.0   91800  91   \n",
       "1           NaN  ...  357000.0    81.78        4.0          3.0   91380  91   \n",
       "2           NaN  ...  450000.0   163.00        6.0          4.0   91700  91   \n",
       "3           NaN  ...  467500.0   154.00        7.0          4.0   91160  91   \n",
       "4           NaN  ...  465000.0   155.00        7.0          5.0   91390  91   \n",
       "...         ...  ...       ...      ...        ...          ...     ...  ..   \n",
       "3958        NaN  ...  625000.0   245.00        7.0          4.0   78410  78   \n",
       "3959        NaN  ...  280000.0   145.00        6.0          4.0   78440  78   \n",
       "3960        NaN  ...  566000.0   160.00        5.0          3.0   78500  78   \n",
       "3961        NaN  ...  484000.0   145.00        7.0          5.0   78480  78   \n",
       "3962        NaN  ...  905000.0   200.00        8.0          5.0   78380  78   \n",
       "\n",
       "                                                  ZoneR  \\\n",
       "0                                 Boussy-Saint-Antoine    \n",
       "1                            Chilly-Mazarin  (Gravigny)   \n",
       "2           Sainte-Geneviève-des-Bois  (Georges Pitard)   \n",
       "3                          Longjumeau  (Gubanski - Sud)   \n",
       "4                          Morsang-sur-Orge  (Langevin)   \n",
       "...                                                 ...   \n",
       "3958                                           Bouafle    \n",
       "3959                                       Porcheville    \n",
       "3960                  Sartrouville  (Le Val Notre-Dame)   \n",
       "3961  Verneuil-sur-Seine  (Les Clairières - Les Rena...   \n",
       "3962                                          Bougival    \n",
       "\n",
       "                          EmplacementR  ParkingR  JardinR  \n",
       "0                Boussy-Saint-Antoine        2.0     True  \n",
       "1                             Gravigny       3.0     True  \n",
       "2                       Georges Pitard       3.0     True  \n",
       "3                       Gubanski - Sud       8.0     True  \n",
       "4                             Langevin       6.0     True  \n",
       "...                                ...       ...      ...  \n",
       "3958                          Bouafle        2.0     True  \n",
       "3959                      Porcheville        2.0     True  \n",
       "3960                 Le Val Notre-Dame       2.0     True  \n",
       "3961  Les Clairières - Les Renardières       2.0     True  \n",
       "3962                         Bougival        2.0     True  \n",
       "\n",
       "[3963 rows x 28 columns]"
      ]
     },
     "execution_count": 204,
     "metadata": {},
     "output_type": "execute_result"
    }
   ],
   "source": [
    "data"
   ]
  },
  {
   "cell_type": "markdown",
   "metadata": {},
   "source": [
    "### Debut d'Etudes descriptives"
   ]
  },
  {
   "cell_type": "code",
   "execution_count": 206,
   "metadata": {},
   "outputs": [
    {
     "data": {
      "text/plain": [
       "Index(['id_hourse', 'Addresse', 'Titre', 'Prix', 'Surface', 'Nb_piece',\n",
       "       'Nb_chambre', 'Parking', 'Jardin', 'Ascenseur', 'Terrasse', 'Garage',\n",
       "       'Prix_sur', 'Reference', 'Date_publication', 'Date_modification',\n",
       "       'Titre_description', 'Description', 'PrixR', 'SurfaceR', 'Nb_PiecesR',\n",
       "       'Nb_ChambresR', 'DepartR', 'Dep', 'ZoneR', 'EmplacementR', 'ParkingR',\n",
       "       'JardinR'],\n",
       "      dtype='object')"
      ]
     },
     "execution_count": 206,
     "metadata": {},
     "output_type": "execute_result"
    }
   ],
   "source": [
    "donnee=data\n",
    "donnee.columns"
   ]
  },
  {
   "cell_type": "code",
   "execution_count": 207,
   "metadata": {},
   "outputs": [],
   "source": [
    "dataSubset=donnee[['id_hourse','PrixR', 'SurfaceR', 'Nb_PiecesR',\n",
    "       'Nb_ChambresR', 'ParkingR', 'JardinR', 'Dep', 'ZoneR',\n",
    "       'EmplacementR']]"
   ]
  },
  {
   "cell_type": "code",
   "execution_count": 208,
   "metadata": {},
   "outputs": [
    {
     "data": {
      "text/html": [
       "<div>\n",
       "<style scoped>\n",
       "    .dataframe tbody tr th:only-of-type {\n",
       "        vertical-align: middle;\n",
       "    }\n",
       "\n",
       "    .dataframe tbody tr th {\n",
       "        vertical-align: top;\n",
       "    }\n",
       "\n",
       "    .dataframe thead th {\n",
       "        text-align: right;\n",
       "    }\n",
       "</style>\n",
       "<table border=\"1\" class=\"dataframe\">\n",
       "  <thead>\n",
       "    <tr style=\"text-align: right;\">\n",
       "      <th></th>\n",
       "      <th>id_hourse</th>\n",
       "      <th>PrixR</th>\n",
       "      <th>SurfaceR</th>\n",
       "      <th>Nb_PiecesR</th>\n",
       "      <th>Nb_ChambresR</th>\n",
       "      <th>ParkingR</th>\n",
       "      <th>JardinR</th>\n",
       "      <th>Dep</th>\n",
       "      <th>ZoneR</th>\n",
       "      <th>EmplacementR</th>\n",
       "    </tr>\n",
       "  </thead>\n",
       "  <tbody>\n",
       "    <tr>\n",
       "      <th>0</th>\n",
       "      <td>ES91_0</td>\n",
       "      <td>414500.0</td>\n",
       "      <td>128.00</td>\n",
       "      <td>4.0</td>\n",
       "      <td>3.0</td>\n",
       "      <td>2.0</td>\n",
       "      <td>True</td>\n",
       "      <td>91</td>\n",
       "      <td>Boussy-Saint-Antoine</td>\n",
       "      <td>Boussy-Saint-Antoine</td>\n",
       "    </tr>\n",
       "    <tr>\n",
       "      <th>1</th>\n",
       "      <td>ES91_1</td>\n",
       "      <td>357000.0</td>\n",
       "      <td>81.78</td>\n",
       "      <td>4.0</td>\n",
       "      <td>3.0</td>\n",
       "      <td>3.0</td>\n",
       "      <td>True</td>\n",
       "      <td>91</td>\n",
       "      <td>Chilly-Mazarin  (Gravigny)</td>\n",
       "      <td>Gravigny</td>\n",
       "    </tr>\n",
       "    <tr>\n",
       "      <th>2</th>\n",
       "      <td>ES91_2</td>\n",
       "      <td>450000.0</td>\n",
       "      <td>163.00</td>\n",
       "      <td>6.0</td>\n",
       "      <td>4.0</td>\n",
       "      <td>3.0</td>\n",
       "      <td>True</td>\n",
       "      <td>91</td>\n",
       "      <td>Sainte-Geneviève-des-Bois  (Georges Pitard)</td>\n",
       "      <td>Georges Pitard</td>\n",
       "    </tr>\n",
       "    <tr>\n",
       "      <th>3</th>\n",
       "      <td>ES91_3</td>\n",
       "      <td>467500.0</td>\n",
       "      <td>154.00</td>\n",
       "      <td>7.0</td>\n",
       "      <td>4.0</td>\n",
       "      <td>8.0</td>\n",
       "      <td>True</td>\n",
       "      <td>91</td>\n",
       "      <td>Longjumeau  (Gubanski - Sud)</td>\n",
       "      <td>Gubanski - Sud</td>\n",
       "    </tr>\n",
       "    <tr>\n",
       "      <th>4</th>\n",
       "      <td>ES91_4</td>\n",
       "      <td>465000.0</td>\n",
       "      <td>155.00</td>\n",
       "      <td>7.0</td>\n",
       "      <td>5.0</td>\n",
       "      <td>6.0</td>\n",
       "      <td>True</td>\n",
       "      <td>91</td>\n",
       "      <td>Morsang-sur-Orge  (Langevin)</td>\n",
       "      <td>Langevin</td>\n",
       "    </tr>\n",
       "    <tr>\n",
       "      <th>...</th>\n",
       "      <td>...</td>\n",
       "      <td>...</td>\n",
       "      <td>...</td>\n",
       "      <td>...</td>\n",
       "      <td>...</td>\n",
       "      <td>...</td>\n",
       "      <td>...</td>\n",
       "      <td>...</td>\n",
       "      <td>...</td>\n",
       "      <td>...</td>\n",
       "    </tr>\n",
       "    <tr>\n",
       "      <th>3958</th>\n",
       "      <td>YV78_1269</td>\n",
       "      <td>625000.0</td>\n",
       "      <td>245.00</td>\n",
       "      <td>7.0</td>\n",
       "      <td>4.0</td>\n",
       "      <td>2.0</td>\n",
       "      <td>True</td>\n",
       "      <td>78</td>\n",
       "      <td>Bouafle</td>\n",
       "      <td>Bouafle</td>\n",
       "    </tr>\n",
       "    <tr>\n",
       "      <th>3959</th>\n",
       "      <td>YV78_1270</td>\n",
       "      <td>280000.0</td>\n",
       "      <td>145.00</td>\n",
       "      <td>6.0</td>\n",
       "      <td>4.0</td>\n",
       "      <td>2.0</td>\n",
       "      <td>True</td>\n",
       "      <td>78</td>\n",
       "      <td>Porcheville</td>\n",
       "      <td>Porcheville</td>\n",
       "    </tr>\n",
       "    <tr>\n",
       "      <th>3960</th>\n",
       "      <td>YV78_1271</td>\n",
       "      <td>566000.0</td>\n",
       "      <td>160.00</td>\n",
       "      <td>5.0</td>\n",
       "      <td>3.0</td>\n",
       "      <td>2.0</td>\n",
       "      <td>True</td>\n",
       "      <td>78</td>\n",
       "      <td>Sartrouville  (Le Val Notre-Dame)</td>\n",
       "      <td>Le Val Notre-Dame</td>\n",
       "    </tr>\n",
       "    <tr>\n",
       "      <th>3961</th>\n",
       "      <td>YV78_1272</td>\n",
       "      <td>484000.0</td>\n",
       "      <td>145.00</td>\n",
       "      <td>7.0</td>\n",
       "      <td>5.0</td>\n",
       "      <td>2.0</td>\n",
       "      <td>True</td>\n",
       "      <td>78</td>\n",
       "      <td>Verneuil-sur-Seine  (Les Clairières - Les Rena...</td>\n",
       "      <td>Les Clairières - Les Renardières</td>\n",
       "    </tr>\n",
       "    <tr>\n",
       "      <th>3962</th>\n",
       "      <td>YV78_1273</td>\n",
       "      <td>905000.0</td>\n",
       "      <td>200.00</td>\n",
       "      <td>8.0</td>\n",
       "      <td>5.0</td>\n",
       "      <td>2.0</td>\n",
       "      <td>True</td>\n",
       "      <td>78</td>\n",
       "      <td>Bougival</td>\n",
       "      <td>Bougival</td>\n",
       "    </tr>\n",
       "  </tbody>\n",
       "</table>\n",
       "<p>3963 rows × 10 columns</p>\n",
       "</div>"
      ],
      "text/plain": [
       "      id_hourse     PrixR  SurfaceR  Nb_PiecesR  Nb_ChambresR  ParkingR  \\\n",
       "0        ES91_0  414500.0    128.00         4.0           3.0       2.0   \n",
       "1        ES91_1  357000.0     81.78         4.0           3.0       3.0   \n",
       "2        ES91_2  450000.0    163.00         6.0           4.0       3.0   \n",
       "3        ES91_3  467500.0    154.00         7.0           4.0       8.0   \n",
       "4        ES91_4  465000.0    155.00         7.0           5.0       6.0   \n",
       "...         ...       ...       ...         ...           ...       ...   \n",
       "3958  YV78_1269  625000.0    245.00         7.0           4.0       2.0   \n",
       "3959  YV78_1270  280000.0    145.00         6.0           4.0       2.0   \n",
       "3960  YV78_1271  566000.0    160.00         5.0           3.0       2.0   \n",
       "3961  YV78_1272  484000.0    145.00         7.0           5.0       2.0   \n",
       "3962  YV78_1273  905000.0    200.00         8.0           5.0       2.0   \n",
       "\n",
       "      JardinR Dep                                              ZoneR  \\\n",
       "0        True  91                              Boussy-Saint-Antoine    \n",
       "1        True  91                         Chilly-Mazarin  (Gravigny)   \n",
       "2        True  91        Sainte-Geneviève-des-Bois  (Georges Pitard)   \n",
       "3        True  91                       Longjumeau  (Gubanski - Sud)   \n",
       "4        True  91                       Morsang-sur-Orge  (Langevin)   \n",
       "...       ...  ..                                                ...   \n",
       "3958     True  78                                           Bouafle    \n",
       "3959     True  78                                       Porcheville    \n",
       "3960     True  78                  Sartrouville  (Le Val Notre-Dame)   \n",
       "3961     True  78  Verneuil-sur-Seine  (Les Clairières - Les Rena...   \n",
       "3962     True  78                                          Bougival    \n",
       "\n",
       "                          EmplacementR  \n",
       "0                Boussy-Saint-Antoine   \n",
       "1                             Gravigny  \n",
       "2                       Georges Pitard  \n",
       "3                       Gubanski - Sud  \n",
       "4                             Langevin  \n",
       "...                                ...  \n",
       "3958                          Bouafle   \n",
       "3959                      Porcheville   \n",
       "3960                 Le Val Notre-Dame  \n",
       "3961  Les Clairières - Les Renardières  \n",
       "3962                         Bougival   \n",
       "\n",
       "[3963 rows x 10 columns]"
      ]
     },
     "execution_count": 208,
     "metadata": {},
     "output_type": "execute_result"
    }
   ],
   "source": [
    "dataSubset"
   ]
  },
  {
   "cell_type": "code",
   "execution_count": 209,
   "metadata": {},
   "outputs": [
    {
     "data": {
      "text/html": [
       "<div>\n",
       "<style scoped>\n",
       "    .dataframe tbody tr th:only-of-type {\n",
       "        vertical-align: middle;\n",
       "    }\n",
       "\n",
       "    .dataframe tbody tr th {\n",
       "        vertical-align: top;\n",
       "    }\n",
       "\n",
       "    .dataframe thead th {\n",
       "        text-align: right;\n",
       "    }\n",
       "</style>\n",
       "<table border=\"1\" class=\"dataframe\">\n",
       "  <thead>\n",
       "    <tr style=\"text-align: right;\">\n",
       "      <th></th>\n",
       "      <th>PrixR</th>\n",
       "      <th>SurfaceR</th>\n",
       "      <th>Nb_PiecesR</th>\n",
       "      <th>Nb_ChambresR</th>\n",
       "      <th>ParkingR</th>\n",
       "    </tr>\n",
       "  </thead>\n",
       "  <tbody>\n",
       "    <tr>\n",
       "      <th>count</th>\n",
       "      <td>3.906000e+03</td>\n",
       "      <td>3887.000000</td>\n",
       "      <td>3899.000000</td>\n",
       "      <td>3868.000000</td>\n",
       "      <td>3963.000000</td>\n",
       "    </tr>\n",
       "    <tr>\n",
       "      <th>mean</th>\n",
       "      <td>6.713327e+05</td>\n",
       "      <td>151.943898</td>\n",
       "      <td>6.196717</td>\n",
       "      <td>3.919080</td>\n",
       "      <td>1.173354</td>\n",
       "    </tr>\n",
       "    <tr>\n",
       "      <th>std</th>\n",
       "      <td>1.302842e+06</td>\n",
       "      <td>85.914124</td>\n",
       "      <td>3.619120</td>\n",
       "      <td>1.436679</td>\n",
       "      <td>2.462946</td>\n",
       "    </tr>\n",
       "    <tr>\n",
       "      <th>min</th>\n",
       "      <td>3.631500e+04</td>\n",
       "      <td>16.510000</td>\n",
       "      <td>1.000000</td>\n",
       "      <td>1.000000</td>\n",
       "      <td>0.000000</td>\n",
       "    </tr>\n",
       "    <tr>\n",
       "      <th>25%</th>\n",
       "      <td>3.265000e+05</td>\n",
       "      <td>98.000000</td>\n",
       "      <td>5.000000</td>\n",
       "      <td>3.000000</td>\n",
       "      <td>0.000000</td>\n",
       "    </tr>\n",
       "    <tr>\n",
       "      <th>50%</th>\n",
       "      <td>4.550000e+05</td>\n",
       "      <td>132.000000</td>\n",
       "      <td>6.000000</td>\n",
       "      <td>4.000000</td>\n",
       "      <td>0.000000</td>\n",
       "    </tr>\n",
       "    <tr>\n",
       "      <th>75%</th>\n",
       "      <td>6.990000e+05</td>\n",
       "      <td>176.000000</td>\n",
       "      <td>7.000000</td>\n",
       "      <td>5.000000</td>\n",
       "      <td>2.000000</td>\n",
       "    </tr>\n",
       "    <tr>\n",
       "      <th>max</th>\n",
       "      <td>6.000000e+07</td>\n",
       "      <td>988.000000</td>\n",
       "      <td>166.000000</td>\n",
       "      <td>32.000000</td>\n",
       "      <td>99.000000</td>\n",
       "    </tr>\n",
       "  </tbody>\n",
       "</table>\n",
       "</div>"
      ],
      "text/plain": [
       "              PrixR     SurfaceR   Nb_PiecesR  Nb_ChambresR     ParkingR\n",
       "count  3.906000e+03  3887.000000  3899.000000   3868.000000  3963.000000\n",
       "mean   6.713327e+05   151.943898     6.196717      3.919080     1.173354\n",
       "std    1.302842e+06    85.914124     3.619120      1.436679     2.462946\n",
       "min    3.631500e+04    16.510000     1.000000      1.000000     0.000000\n",
       "25%    3.265000e+05    98.000000     5.000000      3.000000     0.000000\n",
       "50%    4.550000e+05   132.000000     6.000000      4.000000     0.000000\n",
       "75%    6.990000e+05   176.000000     7.000000      5.000000     2.000000\n",
       "max    6.000000e+07   988.000000   166.000000     32.000000    99.000000"
      ]
     },
     "execution_count": 209,
     "metadata": {},
     "output_type": "execute_result"
    }
   ],
   "source": [
    "dataSubset.describe()"
   ]
  },
  {
   "cell_type": "code",
   "execution_count": 210,
   "metadata": {},
   "outputs": [
    {
     "data": {
      "text/html": [
       "<div>\n",
       "<style scoped>\n",
       "    .dataframe tbody tr th:only-of-type {\n",
       "        vertical-align: middle;\n",
       "    }\n",
       "\n",
       "    .dataframe tbody tr th {\n",
       "        vertical-align: top;\n",
       "    }\n",
       "\n",
       "    .dataframe thead th {\n",
       "        text-align: right;\n",
       "    }\n",
       "</style>\n",
       "<table border=\"1\" class=\"dataframe\">\n",
       "  <thead>\n",
       "    <tr style=\"text-align: right;\">\n",
       "      <th></th>\n",
       "      <th>PrixR</th>\n",
       "      <th>SurfaceR</th>\n",
       "      <th>Nb_PiecesR</th>\n",
       "      <th>Nb_ChambresR</th>\n",
       "      <th>ParkingR</th>\n",
       "      <th>JardinR</th>\n",
       "    </tr>\n",
       "  </thead>\n",
       "  <tbody>\n",
       "    <tr>\n",
       "      <th>PrixR</th>\n",
       "      <td>1.000000</td>\n",
       "      <td>0.537807</td>\n",
       "      <td>0.423464</td>\n",
       "      <td>0.350911</td>\n",
       "      <td>-0.014471</td>\n",
       "      <td>-0.093703</td>\n",
       "    </tr>\n",
       "    <tr>\n",
       "      <th>SurfaceR</th>\n",
       "      <td>0.537807</td>\n",
       "      <td>1.000000</td>\n",
       "      <td>0.525478</td>\n",
       "      <td>0.695656</td>\n",
       "      <td>0.115452</td>\n",
       "      <td>0.050577</td>\n",
       "    </tr>\n",
       "    <tr>\n",
       "      <th>Nb_PiecesR</th>\n",
       "      <td>0.423464</td>\n",
       "      <td>0.525478</td>\n",
       "      <td>1.000000</td>\n",
       "      <td>0.582181</td>\n",
       "      <td>0.059840</td>\n",
       "      <td>0.066042</td>\n",
       "    </tr>\n",
       "    <tr>\n",
       "      <th>Nb_ChambresR</th>\n",
       "      <td>0.350911</td>\n",
       "      <td>0.695656</td>\n",
       "      <td>0.582181</td>\n",
       "      <td>1.000000</td>\n",
       "      <td>0.078436</td>\n",
       "      <td>0.098454</td>\n",
       "    </tr>\n",
       "    <tr>\n",
       "      <th>ParkingR</th>\n",
       "      <td>-0.014471</td>\n",
       "      <td>0.115452</td>\n",
       "      <td>0.059840</td>\n",
       "      <td>0.078436</td>\n",
       "      <td>1.000000</td>\n",
       "      <td>0.115034</td>\n",
       "    </tr>\n",
       "    <tr>\n",
       "      <th>JardinR</th>\n",
       "      <td>-0.093703</td>\n",
       "      <td>0.050577</td>\n",
       "      <td>0.066042</td>\n",
       "      <td>0.098454</td>\n",
       "      <td>0.115034</td>\n",
       "      <td>1.000000</td>\n",
       "    </tr>\n",
       "  </tbody>\n",
       "</table>\n",
       "</div>"
      ],
      "text/plain": [
       "                 PrixR  SurfaceR  Nb_PiecesR  Nb_ChambresR  ParkingR   JardinR\n",
       "PrixR         1.000000  0.537807    0.423464      0.350911 -0.014471 -0.093703\n",
       "SurfaceR      0.537807  1.000000    0.525478      0.695656  0.115452  0.050577\n",
       "Nb_PiecesR    0.423464  0.525478    1.000000      0.582181  0.059840  0.066042\n",
       "Nb_ChambresR  0.350911  0.695656    0.582181      1.000000  0.078436  0.098454\n",
       "ParkingR     -0.014471  0.115452    0.059840      0.078436  1.000000  0.115034\n",
       "JardinR      -0.093703  0.050577    0.066042      0.098454  0.115034  1.000000"
      ]
     },
     "execution_count": 210,
     "metadata": {},
     "output_type": "execute_result"
    }
   ],
   "source": [
    "### \n",
    "dataSubset.corr()"
   ]
  },
  {
   "cell_type": "code",
   "execution_count": 211,
   "metadata": {},
   "outputs": [
    {
     "data": {
      "text/plain": [
       "<matplotlib.axes._subplots.AxesSubplot at 0x1d2075c4748>"
      ]
     },
     "execution_count": 211,
     "metadata": {},
     "output_type": "execute_result"
    },
    {
     "data": {
      "image/png": "[encoded data removed]",
      "text/plain": [
       "<Figure size 432x288 with 1 Axes>"
      ]
     },
     "metadata": {
      "needs_background": "light"
     },
     "output_type": "display_data"
    }
   ],
   "source": [
    "dataSubset.PrixR.plot.hist()"
   ]
  },
  {
   "cell_type": "code",
   "execution_count": 212,
   "metadata": {},
   "outputs": [
    {
     "data": {
      "text/plain": [
       "<matplotlib.axes._subplots.AxesSubplot at 0x1d208ab05c8>"
      ]
     },
     "execution_count": 212,
     "metadata": {},
     "output_type": "execute_result"
    },
    {
     "data": {
      "image/png": "[encoded data removed]",
      "text/plain": [
       "<Figure size 432x288 with 1 Axes>"
      ]
     },
     "metadata": {
      "needs_background": "light"
     },
     "output_type": "display_data"
    }
   ],
   "source": [
    "dataSubset.PrixR.apply(np.log).plot.hist()"
   ]
  },
  {
   "cell_type": "code",
   "execution_count": 213,
   "metadata": {},
   "outputs": [
    {
     "data": {
      "text/plain": [
       "<matplotlib.axes._subplots.AxesSubplot at 0x1d208a6b3c8>"
      ]
     },
     "execution_count": 213,
     "metadata": {},
     "output_type": "execute_result"
    },
    {
     "data": {
      "image/png": "[encoded data removed]",
      "text/plain": [
       "<Figure size 432x288 with 1 Axes>"
      ]
     },
     "metadata": {
      "needs_background": "light"
     },
     "output_type": "display_data"
    }
   ],
   "source": [
    "dataSubset['SurfaceR'].plot.hist()"
   ]
  },
  {
   "cell_type": "code",
   "execution_count": 214,
   "metadata": {},
   "outputs": [
    {
     "data": {
      "text/plain": [
       "<matplotlib.axes._subplots.AxesSubplot at 0x1d201e22c48>"
      ]
     },
     "execution_count": 214,
     "metadata": {},
     "output_type": "execute_result"
    },
    {
     "data": {
      "image/png": "[encoded data removed]",
      "text/plain": [
       "<Figure size 432x288 with 1 Axes>"
      ]
     },
     "metadata": {
      "needs_background": "light"
     },
     "output_type": "display_data"
    }
   ],
   "source": [
    "dataSubset['SurfaceR'].apply(np.log).plot.hist()"
   ]
  },
  {
   "cell_type": "code",
   "execution_count": 215,
   "metadata": {},
   "outputs": [
    {
     "data": {
      "text/plain": [
       "<matplotlib.axes._subplots.AxesSubplot at 0x1d201e2b808>"
      ]
     },
     "execution_count": 215,
     "metadata": {},
     "output_type": "execute_result"
    },
    {
     "data": {
      "image/png": "[encoded data removed]",
      "text/plain": [
       "<Figure size 432x288 with 1 Axes>"
      ]
     },
     "metadata": {
      "needs_background": "light"
     },
     "output_type": "display_data"
    }
   ],
   "source": [
    "dataSubset['Nb_ChambresR'].plot.hist()"
   ]
  },
  {
   "cell_type": "code",
   "execution_count": 216,
   "metadata": {},
   "outputs": [
    {
     "data": {
      "text/plain": [
       "<matplotlib.axes._subplots.AxesSubplot at 0x1d208c73248>"
      ]
     },
     "execution_count": 216,
     "metadata": {},
     "output_type": "execute_result"
    },
    {
     "data": {
      "image/png": "[encoded data removed]",
      "text/plain": [
       "<Figure size 432x288 with 1 Axes>"
      ]
     },
     "metadata": {
      "needs_background": "light"
     },
     "output_type": "display_data"
    }
   ],
   "source": [
    "dataSubset['Nb_PiecesR'].plot.hist()"
   ]
  },
  {
   "cell_type": "code",
   "execution_count": 217,
   "metadata": {},
   "outputs": [
    {
     "data": {
      "text/plain": [
       "<matplotlib.axes._subplots.AxesSubplot at 0x1d208b26508>"
      ]
     },
     "execution_count": 217,
     "metadata": {},
     "output_type": "execute_result"
    },
    {
     "data": {
      "image/png": "[encoded data removed]",
      "text/plain": [
       "<Figure size 432x288 with 1 Axes>"
      ]
     },
     "metadata": {
      "needs_background": "light"
     },
     "output_type": "display_data"
    }
   ],
   "source": [
    "dataSubset['Nb_PiecesR'].value_counts().plot.bar()"
   ]
  },
  {
   "cell_type": "code",
   "execution_count": 218,
   "metadata": {},
   "outputs": [
    {
     "data": {
      "text/plain": [
       "<matplotlib.axes._subplots.AxesSubplot at 0x1d207a1aec8>"
      ]
     },
     "execution_count": 218,
     "metadata": {},
     "output_type": "execute_result"
    },
    {
     "data": {
      "image/png": "[encoded data removed]",
      "text/plain": [
       "<Figure size 432x288 with 1 Axes>"
      ]
     },
     "metadata": {
      "needs_background": "light"
     },
     "output_type": "display_data"
    }
   ],
   "source": [
    "dataSubset['Nb_ChambresR'].value_counts().plot.bar()"
   ]
  },
  {
   "cell_type": "code",
   "execution_count": 219,
   "metadata": {},
   "outputs": [],
   "source": [
    "import seaborn as sns\n",
    "import scipy as stats"
   ]
  },
  {
   "cell_type": "code",
   "execution_count": 220,
   "metadata": {},
   "outputs": [
    {
     "data": {
      "text/html": [
       "<div>\n",
       "<style scoped>\n",
       "    .dataframe tbody tr th:only-of-type {\n",
       "        vertical-align: middle;\n",
       "    }\n",
       "\n",
       "    .dataframe tbody tr th {\n",
       "        vertical-align: top;\n",
       "    }\n",
       "\n",
       "    .dataframe thead th {\n",
       "        text-align: right;\n",
       "    }\n",
       "</style>\n",
       "<table border=\"1\" class=\"dataframe\">\n",
       "  <thead>\n",
       "    <tr style=\"text-align: right;\">\n",
       "      <th></th>\n",
       "      <th>PrixR</th>\n",
       "      <th>SurfaceR</th>\n",
       "      <th>Nb_PiecesR</th>\n",
       "      <th>Nb_ChambresR</th>\n",
       "      <th>ParkingR</th>\n",
       "    </tr>\n",
       "  </thead>\n",
       "  <tbody>\n",
       "    <tr>\n",
       "      <th>0</th>\n",
       "      <td>414500.0</td>\n",
       "      <td>128.00</td>\n",
       "      <td>4.0</td>\n",
       "      <td>3.0</td>\n",
       "      <td>2.0</td>\n",
       "    </tr>\n",
       "    <tr>\n",
       "      <th>1</th>\n",
       "      <td>357000.0</td>\n",
       "      <td>81.78</td>\n",
       "      <td>4.0</td>\n",
       "      <td>3.0</td>\n",
       "      <td>3.0</td>\n",
       "    </tr>\n",
       "    <tr>\n",
       "      <th>2</th>\n",
       "      <td>450000.0</td>\n",
       "      <td>163.00</td>\n",
       "      <td>6.0</td>\n",
       "      <td>4.0</td>\n",
       "      <td>3.0</td>\n",
       "    </tr>\n",
       "    <tr>\n",
       "      <th>3</th>\n",
       "      <td>467500.0</td>\n",
       "      <td>154.00</td>\n",
       "      <td>7.0</td>\n",
       "      <td>4.0</td>\n",
       "      <td>8.0</td>\n",
       "    </tr>\n",
       "    <tr>\n",
       "      <th>4</th>\n",
       "      <td>465000.0</td>\n",
       "      <td>155.00</td>\n",
       "      <td>7.0</td>\n",
       "      <td>5.0</td>\n",
       "      <td>6.0</td>\n",
       "    </tr>\n",
       "    <tr>\n",
       "      <th>...</th>\n",
       "      <td>...</td>\n",
       "      <td>...</td>\n",
       "      <td>...</td>\n",
       "      <td>...</td>\n",
       "      <td>...</td>\n",
       "    </tr>\n",
       "    <tr>\n",
       "      <th>3958</th>\n",
       "      <td>625000.0</td>\n",
       "      <td>245.00</td>\n",
       "      <td>7.0</td>\n",
       "      <td>4.0</td>\n",
       "      <td>2.0</td>\n",
       "    </tr>\n",
       "    <tr>\n",
       "      <th>3959</th>\n",
       "      <td>280000.0</td>\n",
       "      <td>145.00</td>\n",
       "      <td>6.0</td>\n",
       "      <td>4.0</td>\n",
       "      <td>2.0</td>\n",
       "    </tr>\n",
       "    <tr>\n",
       "      <th>3960</th>\n",
       "      <td>566000.0</td>\n",
       "      <td>160.00</td>\n",
       "      <td>5.0</td>\n",
       "      <td>3.0</td>\n",
       "      <td>2.0</td>\n",
       "    </tr>\n",
       "    <tr>\n",
       "      <th>3961</th>\n",
       "      <td>484000.0</td>\n",
       "      <td>145.00</td>\n",
       "      <td>7.0</td>\n",
       "      <td>5.0</td>\n",
       "      <td>2.0</td>\n",
       "    </tr>\n",
       "    <tr>\n",
       "      <th>3962</th>\n",
       "      <td>905000.0</td>\n",
       "      <td>200.00</td>\n",
       "      <td>8.0</td>\n",
       "      <td>5.0</td>\n",
       "      <td>2.0</td>\n",
       "    </tr>\n",
       "  </tbody>\n",
       "</table>\n",
       "<p>3963 rows × 5 columns</p>\n",
       "</div>"
      ],
      "text/plain": [
       "         PrixR  SurfaceR  Nb_PiecesR  Nb_ChambresR  ParkingR\n",
       "0     414500.0    128.00         4.0           3.0       2.0\n",
       "1     357000.0     81.78         4.0           3.0       3.0\n",
       "2     450000.0    163.00         6.0           4.0       3.0\n",
       "3     467500.0    154.00         7.0           4.0       8.0\n",
       "4     465000.0    155.00         7.0           5.0       6.0\n",
       "...        ...       ...         ...           ...       ...\n",
       "3958  625000.0    245.00         7.0           4.0       2.0\n",
       "3959  280000.0    145.00         6.0           4.0       2.0\n",
       "3960  566000.0    160.00         5.0           3.0       2.0\n",
       "3961  484000.0    145.00         7.0           5.0       2.0\n",
       "3962  905000.0    200.00         8.0           5.0       2.0\n",
       "\n",
       "[3963 rows x 5 columns]"
      ]
     },
     "execution_count": 220,
     "metadata": {},
     "output_type": "execute_result"
    }
   ],
   "source": [
    "Quanti=dataSubset[['PrixR', 'SurfaceR', 'Nb_PiecesR','Nb_ChambresR','ParkingR']]\n",
    "Quanti"
   ]
  },
  {
   "cell_type": "code",
   "execution_count": 221,
   "metadata": {},
   "outputs": [
    {
     "data": {
      "text/plain": [
       "<seaborn.axisgrid.PairGrid at 0x1d2094047c8>"
      ]
     },
     "execution_count": 221,
     "metadata": {},
     "output_type": "execute_result"
    },
    {
     "data": {
      "image/png": "[encoded data removed]",
      "text/plain": [
       "<Figure size 900x900 with 30 Axes>"
      ]
     },
     "metadata": {
      "needs_background": "light"
     },
     "output_type": "display_data"
    }
   ],
   "source": [
    "sns.pairplot(Quanti)"
   ]
  },
  {
   "cell_type": "code",
   "execution_count": null,
   "metadata": {},
   "outputs": [],
   "source": []
  },
  {
   "cell_type": "code",
   "execution_count": 222,
   "metadata": {},
   "outputs": [],
   "source": [
    "from sklearn.linear_model import LinearRegression\n",
    "from sklearn.model_selection import train_test_split"
   ]
  },
  {
   "cell_type": "code",
   "execution_count": 223,
   "metadata": {},
   "outputs": [],
   "source": [
    "Quanti=Quanti.dropna()"
   ]
  },
  {
   "cell_type": "code",
   "execution_count": 232,
   "metadata": {},
   "outputs": [
    {
     "data": {
      "text/plain": [
       "(3851, 5)"
      ]
     },
     "execution_count": 232,
     "metadata": {},
     "output_type": "execute_result"
    }
   ],
   "source": [
    "Quanti.shape"
   ]
  },
  {
   "cell_type": "code",
   "execution_count": 233,
   "metadata": {},
   "outputs": [],
   "source": [
    "x_train, x_test, y_train, y_test = train_test_split(\n",
    "    Quanti[[i for i in Quanti.columns if i != 'PrixR']],\n",
    "    Quanti['PrixR'].to_numpy().ravel(),\n",
    "    test_size=0.2, random_state=0\n",
    ")"
   ]
  },
  {
   "cell_type": "code",
   "execution_count": 234,
   "metadata": {},
   "outputs": [],
   "source": [
    "ols = LinearRegression()\n",
    "ols.fit(x_train, y_train)\n",
    "y_pred = ols.predict(x_test)"
   ]
  },
  {
   "cell_type": "code",
   "execution_count": 235,
   "metadata": {},
   "outputs": [
    {
     "data": {
      "text/plain": [
       "-2748.0789668256184"
      ]
     },
     "execution_count": 235,
     "metadata": {},
     "output_type": "execute_result"
    }
   ],
   "source": [
    "ols.intercept_"
   ]
  },
  {
   "cell_type": "code",
   "execution_count": null,
   "metadata": {},
   "outputs": [],
   "source": []
  },
  {
   "cell_type": "code",
   "execution_count": 237,
   "metadata": {},
   "outputs": [],
   "source": [
    "from sklearn.metrics import r2_score\n",
    "from sklearn.metrics import mean_squared_error"
   ]
  },
  {
   "cell_type": "code",
   "execution_count": 238,
   "metadata": {},
   "outputs": [
    {
     "data": {
      "text/plain": [
       "0.2659072594445695"
      ]
     },
     "execution_count": 238,
     "metadata": {},
     "output_type": "execute_result"
    }
   ],
   "source": [
    "r2 = r2_score(y_test, y_pred)\n",
    "r2"
   ]
  },
  {
   "cell_type": "code",
   "execution_count": 239,
   "metadata": {},
   "outputs": [
    {
     "data": {
      "text/plain": [
       "274004369069.08533"
      ]
     },
     "execution_count": 239,
     "metadata": {},
     "output_type": "execute_result"
    }
   ],
   "source": [
    "mse = mean_squared_error(y_test, y_pred)\n",
    "mse"
   ]
  },
  {
   "cell_type": "code",
   "execution_count": null,
   "metadata": {},
   "outputs": [],
   "source": []
  },
  {
   "cell_type": "code",
   "execution_count": 240,
   "metadata": {},
   "outputs": [],
   "source": [
    "import statsmodels.api as sm\n",
    "import statsmodels.formula.api as smf"
   ]
  },
  {
   "cell_type": "code",
   "execution_count": 241,
   "metadata": {},
   "outputs": [],
   "source": [
    "results_sm = sm.OLS(Quanti['PrixR'], \n",
    "        Quanti[[i for i in Quanti.columns if i != 'PrixR']]).fit()"
   ]
  },
  {
   "cell_type": "code",
   "execution_count": 242,
   "metadata": {},
   "outputs": [],
   "source": [
    "\n",
    "results_sm = sm.OLS(Quanti['PrixR'], \n",
    "        Quanti[[i for i in Quanti.columns if i != 'PrixR']],\n",
    "                   cov_type='HC1').fit()"
   ]
  },
  {
   "cell_type": "code",
   "execution_count": 243,
   "metadata": {},
   "outputs": [
    {
     "data": {
      "text/html": [
       "<table class=\"simpletable\">\n",
       "<caption>OLS Regression Results</caption>\n",
       "<tr>\n",
       "  <th>Dep. Variable:</th>          <td>PrixR</td>      <th>  R-squared (uncentered):</th>      <td>   0.601</td> \n",
       "</tr>\n",
       "<tr>\n",
       "  <th>Model:</th>                   <td>OLS</td>       <th>  Adj. R-squared (uncentered):</th> <td>   0.601</td> \n",
       "</tr>\n",
       "<tr>\n",
       "  <th>Method:</th>             <td>Least Squares</td>  <th>  F-statistic:       </th>          <td>   1450.</td> \n",
       "</tr>\n",
       "<tr>\n",
       "  <th>Date:</th>             <td>Wed, 09 Dec 2020</td> <th>  Prob (F-statistic):</th>           <td>  0.00</td>  \n",
       "</tr>\n",
       "<tr>\n",
       "  <th>Time:</th>                 <td>23:33:19</td>     <th>  Log-Likelihood:    </th>          <td> -56837.</td> \n",
       "</tr>\n",
       "<tr>\n",
       "  <th>No. Observations:</th>      <td>  3851</td>      <th>  AIC:               </th>          <td>1.137e+05</td>\n",
       "</tr>\n",
       "<tr>\n",
       "  <th>Df Residuals:</th>          <td>  3847</td>      <th>  BIC:               </th>          <td>1.137e+05</td>\n",
       "</tr>\n",
       "<tr>\n",
       "  <th>Df Model:</th>              <td>     4</td>      <th>                     </th>              <td> </td>    \n",
       "</tr>\n",
       "<tr>\n",
       "  <th>Covariance Type:</th>      <td>nonrobust</td>    <th>                     </th>              <td> </td>    \n",
       "</tr>\n",
       "</table>\n",
       "<table class=\"simpletable\">\n",
       "<tr>\n",
       "        <td></td>          <th>coef</th>     <th>std err</th>      <th>t</th>      <th>P>|t|</th>  <th>[0.025</th>    <th>0.975]</th>  \n",
       "</tr>\n",
       "<tr>\n",
       "  <th>SurfaceR</th>     <td> 5145.2753</td> <td>  167.463</td> <td>   30.725</td> <td> 0.000</td> <td> 4816.951</td> <td> 5473.599</td>\n",
       "</tr>\n",
       "<tr>\n",
       "  <th>Nb_PiecesR</th>   <td>-1554.1740</td> <td> 3669.421</td> <td>   -0.424</td> <td> 0.672</td> <td>-8748.371</td> <td> 5640.023</td>\n",
       "</tr>\n",
       "<tr>\n",
       "  <th>Nb_ChambresR</th> <td>-2.558e+04</td> <td> 8095.500</td> <td>   -3.160</td> <td> 0.002</td> <td>-4.15e+04</td> <td>-9710.407</td>\n",
       "</tr>\n",
       "<tr>\n",
       "  <th>ParkingR</th>     <td>-2.192e+04</td> <td> 4040.788</td> <td>   -5.425</td> <td> 0.000</td> <td>-2.98e+04</td> <td> -1.4e+04</td>\n",
       "</tr>\n",
       "</table>\n",
       "<table class=\"simpletable\">\n",
       "<tr>\n",
       "  <th>Omnibus:</th>       <td>5605.554</td> <th>  Durbin-Watson:     </th>  <td>   1.386</td>  \n",
       "</tr>\n",
       "<tr>\n",
       "  <th>Prob(Omnibus):</th>  <td> 0.000</td>  <th>  Jarque-Bera (JB):  </th> <td>3266147.034</td>\n",
       "</tr>\n",
       "<tr>\n",
       "  <th>Skew:</th>           <td> 8.474</td>  <th>  Prob(JB):          </th>  <td>    0.00</td>  \n",
       "</tr>\n",
       "<tr>\n",
       "  <th>Kurtosis:</th>       <td>144.661</td> <th>  Cond. No.          </th>  <td>    145.</td>  \n",
       "</tr>\n",
       "</table><br/><br/>Warnings:<br/>[1] Standard Errors assume that the covariance matrix of the errors is correctly specified."
      ],
      "text/plain": [
       "<class 'statsmodels.iolib.summary.Summary'>\n",
       "\"\"\"\n",
       "                                 OLS Regression Results                                \n",
       "=======================================================================================\n",
       "Dep. Variable:                  PrixR   R-squared (uncentered):                   0.601\n",
       "Model:                            OLS   Adj. R-squared (uncentered):              0.601\n",
       "Method:                 Least Squares   F-statistic:                              1450.\n",
       "Date:                Wed, 09 Dec 2020   Prob (F-statistic):                        0.00\n",
       "Time:                        23:33:19   Log-Likelihood:                         -56837.\n",
       "No. Observations:                3851   AIC:                                  1.137e+05\n",
       "Df Residuals:                    3847   BIC:                                  1.137e+05\n",
       "Df Model:                           4                                                  \n",
       "Covariance Type:            nonrobust                                                  \n",
       "================================================================================\n",
       "                   coef    std err          t      P>|t|      [0.025      0.975]\n",
       "--------------------------------------------------------------------------------\n",
       "SurfaceR      5145.2753    167.463     30.725      0.000    4816.951    5473.599\n",
       "Nb_PiecesR   -1554.1740   3669.421     -0.424      0.672   -8748.371    5640.023\n",
       "Nb_ChambresR -2.558e+04   8095.500     -3.160      0.002   -4.15e+04   -9710.407\n",
       "ParkingR     -2.192e+04   4040.788     -5.425      0.000   -2.98e+04    -1.4e+04\n",
       "==============================================================================\n",
       "Omnibus:                     5605.554   Durbin-Watson:                   1.386\n",
       "Prob(Omnibus):                  0.000   Jarque-Bera (JB):          3266147.034\n",
       "Skew:                           8.474   Prob(JB):                         0.00\n",
       "Kurtosis:                     144.661   Cond. No.                         145.\n",
       "==============================================================================\n",
       "\n",
       "Warnings:\n",
       "[1] Standard Errors assume that the covariance matrix of the errors is correctly specified.\n",
       "\"\"\""
      ]
     },
     "execution_count": 243,
     "metadata": {},
     "output_type": "execute_result"
    }
   ],
   "source": [
    "results_sm.summary()"
   ]
  },
  {
   "cell_type": "code",
   "execution_count": null,
   "metadata": {},
   "outputs": [],
   "source": []
  },
  {
   "cell_type": "code",
   "execution_count": 244,
   "metadata": {},
   "outputs": [],
   "source": [
    "from sklearn.preprocessing import StandardScaler"
   ]
  },
  {
   "cell_type": "code",
   "execution_count": 245,
   "metadata": {},
   "outputs": [],
   "source": [
    "scaler = StandardScaler()\n",
    "scaler.fit(Quanti)\n",
    "df_scaled = scaler.transform(Quanti.fillna(0))"
   ]
  },
  {
   "cell_type": "code",
   "execution_count": 246,
   "metadata": {},
   "outputs": [],
   "source": [
    "column_names = Quanti.columns[Quanti.columns != \"PrixR\"]\n",
    "X = df_scaled[:, Quanti.columns != \"PrixR\"]\n",
    "y = Quanti[\"PrixR\"].copy()\n",
    "y[pd.isnull(y)] = y.median()\n",
    "y = y.values.ravel()\n",
    "#y = df_scaled[:, df.columns == 'rep16_frac']"
   ]
  },
  {
   "cell_type": "code",
   "execution_count": 247,
   "metadata": {},
   "outputs": [],
   "source": [
    "from sklearn.linear_model import Lasso\n",
    "from sklearn.model_selection import train_test_split"
   ]
  },
  {
   "cell_type": "code",
   "execution_count": 248,
   "metadata": {},
   "outputs": [],
   "source": [
    "xtrain, xtest, ytrain, ytest = train_test_split(X, y, test_size=0.2)"
   ]
  },
  {
   "cell_type": "code",
   "execution_count": 249,
   "metadata": {},
   "outputs": [
    {
     "data": {
      "text/plain": [
       "0"
      ]
     },
     "execution_count": 249,
     "metadata": {},
     "output_type": "execute_result"
    }
   ],
   "source": [
    "pd.isnull(ytrain).sum()"
   ]
  },
  {
   "cell_type": "code",
   "execution_count": 250,
   "metadata": {},
   "outputs": [
    {
     "data": {
      "text/plain": [
       "Lasso()"
      ]
     },
     "execution_count": 250,
     "metadata": {},
     "output_type": "execute_result"
    }
   ],
   "source": [
    "lasso_ = Lasso(fit_intercept=True)\n",
    "lasso_.fit(xtrain, ytrain)"
   ]
  },
  {
   "cell_type": "code",
   "execution_count": 251,
   "metadata": {},
   "outputs": [
    {
     "data": {
      "text/plain": [
       "array([ 448365.20284212,   -6170.04803386,  -37418.71997658,\n",
       "       -105396.57296799])"
      ]
     },
     "execution_count": 251,
     "metadata": {},
     "output_type": "execute_result"
    }
   ],
   "source": [
    "lasso_.coef_"
   ]
  },
  {
   "cell_type": "code",
   "execution_count": 252,
   "metadata": {},
   "outputs": [
    {
     "data": {
      "text/plain": [
       "Index(['SurfaceR', 'Nb_PiecesR', 'Nb_ChambresR', 'ParkingR'], dtype='object')"
      ]
     },
     "execution_count": 252,
     "metadata": {},
     "output_type": "execute_result"
    }
   ],
   "source": [
    "column_names[lasso_.coef_ != 0]"
   ]
  },
  {
   "cell_type": "code",
   "execution_count": null,
   "metadata": {},
   "outputs": [],
   "source": []
  },
  {
   "cell_type": "code",
   "execution_count": null,
   "metadata": {},
   "outputs": [],
   "source": []
  },
  {
   "cell_type": "code",
   "execution_count": null,
   "metadata": {},
   "outputs": [],
   "source": []
  },
  {
   "cell_type": "code",
   "execution_count": null,
   "metadata": {},
   "outputs": [],
   "source": []
  },
  {
   "cell_type": "code",
   "execution_count": null,
   "metadata": {},
   "outputs": [],
   "source": []
  }
 ],
 "metadata": {
  "kernelspec": {
   "display_name": "Python 3",
   "language": "python",
   "name": "python3"
  },
  "language_info": {
   "codemirror_mode": {
    "name": "ipython",
    "version": 3
   },
   "file_extension": ".py",
   "mimetype": "text/x-python",
   "name": "python",
   "nbconvert_exporter": "python",
   "pygments_lexer": "ipython3",
   "version": "3.7.7"
  }
 },
 "nbformat": 4,
 "nbformat_minor": 4
}
