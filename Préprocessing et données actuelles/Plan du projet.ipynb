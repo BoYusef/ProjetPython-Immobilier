{
 "cells": [
  {
   "cell_type": "markdown",
   "metadata": {},
   "source": [
    "<div style=\"font-size: 38px;\n",
    "  color: DarkRed; text-align: center; font-weight: bold;\n",
    "    border-bottom:2px dashed green; line-height: 1cm;\">Prédiction du prix d'un bien logement(Maison) à l'aide de modèles de Machine Learning.</div>\n",
    " <img src=\"logo_ensae.png\",width=80, height=40>\n",
    " <div style=\"text-align: center;font-size: 16px;\">Supervisé par M. Guillaume BIED</div>\n",
    " \n",
    "   <div style=\"font-size: 18px;\n",
    "  font-family: 'Times New Roman', Times, serif;color: DarkRed;text-align: center;\">ALAIS Claire--ALI ZATCHI Afzal--BANCE Youssouf</div>\n",
    "  \n",
    "  <div style=\"font-size: 18px;\n",
    "  font-family: 'Times New Roman', Times, serif;\n",
    "  color: DarkBlue;\n",
    "  text-align: center;border-bottom:2px dashed green; line-height: 1cm;\"> Octobre - Decembre 2020</div>"
   ]
  },
  {
   "cell_type": "markdown",
   "metadata": {},
   "source": [
    "# Introduction Générale et Préliminaires"
   ]
  },
  {
   "cell_type": "markdown",
   "metadata": {},
   "source": [
    "# I - Extraction des données et Preprocessing"
   ]
  },
  {
   "cell_type": "markdown",
   "metadata": {},
   "source": [
    "## 1) Extraction des données : Web scrapping"
   ]
  },
  {
   "cell_type": "markdown",
   "metadata": {},
   "source": [
    "## 2) Preprocessing des données"
   ]
  },
  {
   "cell_type": "markdown",
   "metadata": {},
   "source": [
    "# II - Description des caractéristiques des logements"
   ]
  },
  {
   "cell_type": "markdown",
   "metadata": {},
   "source": [
    "## 1) Description univarié des caractéristiques"
   ]
  },
  {
   "cell_type": "markdown",
   "metadata": {},
   "source": [
    "## 2) Description bivariées"
   ]
  },
  {
   "cell_type": "markdown",
   "metadata": {},
   "source": [
    "## 3) Caractéristiques multivariés"
   ]
  },
  {
   "cell_type": "markdown",
   "metadata": {},
   "source": [
    "# III - Mise en oeuvre des modeles de machines"
   ]
  },
  {
   "cell_type": "markdown",
   "metadata": {},
   "source": [
    "## 1) Prediction à partir des caractéristiques (Localisation, Propre au logement, Environnementales)"
   ]
  },
  {
   "cell_type": "markdown",
   "metadata": {},
   "source": [
    "## 2) Prédiction à partir des images du logement"
   ]
  },
  {
   "cell_type": "markdown",
   "metadata": {},
   "source": [
    "# Conclusion générale "
   ]
  },
  {
   "cell_type": "code",
   "execution_count": null,
   "metadata": {},
   "outputs": [],
   "source": []
  }
 ],
 "metadata": {
  "kernelspec": {
   "display_name": "Python 3",
   "language": "python",
   "name": "python3"
  },
  "language_info": {
   "codemirror_mode": {
    "name": "ipython",
    "version": 3
   },
   "file_extension": ".py",
   "mimetype": "text/x-python",
   "name": "python",
   "nbconvert_exporter": "python",
   "pygments_lexer": "ipython3",
   "version": "3.7.7"
  }
 },
 "nbformat": 4,
 "nbformat_minor": 4
}
